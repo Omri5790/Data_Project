{
 "cells": [
  {
   "cell_type": "code",
   "execution_count": 2,
   "id": "01c7652c-485d-4dfa-95d4-8a3acf04bbbb",
   "metadata": {
    "jp-MarkdownHeadingCollapsed": true
   },
   "outputs": [
    {
     "name": "stdout",
     "output_type": "stream",
     "text": [
      "done\n"
     ]
    }
   ],
   "source": [
    "# data_preparation.py\n",
    "import pandas as pd\n",
    "from sklearn.impute import SimpleImputer\n",
    "from sklearn.model_selection import train_test_split\n",
    "import numpy as np\n",
    "\n",
    "# Load the data\n",
    "df1 = pd.read_csv('Final_booking_expedia_combined_05_07.csv')\n",
    "df2 = pd.read_csv('Final_booking_expedia_combined_25_06.csv')\n",
    "df3 = pd.read_csv('Final_booking_expedia_combined_20_06.csv')\n",
    "\n",
    "# Merge the dataframes\n",
    "df = pd.concat([df1, df2, df3], ignore_index=True)\n",
    "\n",
    "# Keep only shared hotels (those that appear in both Booking and Expedia)\n",
    "df_shared = df.dropna(subset=['price_per_night_expedia', 'price_per_night_booking'])\n",
    "\n",
    "# Calculate the price difference\n",
    "df_shared['price_difference'] = df_shared['price_per_night_booking'] - df_shared['price_per_night_expedia']\n",
    "\n",
    "# Additional feature engineering\n",
    "df_shared['price_ratio'] = df_shared['price_per_night_booking'] / df_shared['price_per_night_expedia']\n",
    "df_shared['score_diff'] = df_shared['score_booking'] - df_shared['score_expedia']\n",
    "df_shared['reviews_diff'] = df_shared['reviews_booking'] - df_shared['reviews_expedia']\n",
    "df_shared['star_rating_diff'] = df_shared['star_rating_booking'] - df_shared['star_rating_expedia']\n",
    "df_shared['location_rating_diff'] = df_shared['location_rating_booking'] - df_shared['location_rating_expedia']\n",
    "df_shared['km_diff'] = df_shared['km_from_center_booking'] - df_shared['km_from_center_expedia']\n",
    "df_shared['cancellation_diff'] = df_shared['Free_cancellation_booking'] - df_shared['Free_cancellation_expedia']\n",
    "df_shared['breakfast_diff'] = df_shared['Breakfast_booking'] - df_shared['Breakfast_expedia']\n",
    "\n",
    "# Replace infinity values with NaN and then fill them\n",
    "df_shared.replace([np.inf, -np.inf], np.nan, inplace=True)\n",
    "\n",
    "# Select relevant features\n",
    "features = ['score_expedia', 'reviews_expedia', 'star_rating_expedia', 'location_rating_expedia', \n",
    "            'km_from_center_expedia', 'Free_cancellation_expedia', 'Breakfast_expedia', \n",
    "            'score_booking', 'reviews_booking', 'star_rating_booking', 'location_rating_booking', \n",
    "            'km_from_center_booking', 'Free_cancellation_booking', 'Breakfast_booking',\n",
    "            'price_ratio', 'score_diff', 'reviews_diff', 'star_rating_diff', 'location_rating_diff', \n",
    "            'km_diff', 'cancellation_diff', 'breakfast_diff']\n",
    "target = 'price_difference'\n",
    "\n",
    "# Handle missing values\n",
    "imputer = SimpleImputer(strategy='mean')\n",
    "df_shared[features] = imputer.fit_transform(df_shared[features])\n",
    "\n",
    "# Split the data into train and test sets\n",
    "X = df_shared[features]\n",
    "y = df_shared[target]\n",
    "X_train, X_test, y_train, y_test = train_test_split(X, y, test_size=0.3, random_state=42)\n",
    "\n",
    "# Ensure y_train and y_test are 1-dimensional\n",
    "y_train = y_train.ravel()\n",
    "y_test = y_test.ravel()\n",
    "\n",
    "# Save the prepared data to CSV files\n",
    "X_train.to_csv('X_train.csv', index=False)\n",
    "X_test.to_csv('X_test.csv', index=False)\n",
    "pd.DataFrame(y_train, columns=['price_difference']).to_csv('y_train.csv', index=False)\n",
    "pd.DataFrame(y_test, columns=['price_difference']).to_csv('y_test.csv', index=False)\n",
    "print(\"done\")\n"
   ]
  },
  {
   "cell_type": "code",
   "execution_count": null,
   "id": "ae904db1-c0db-4b7d-b635-23fd40cea35b",
   "metadata": {},
   "outputs": [],
   "source": []
  }
 ],
 "metadata": {
  "kernelspec": {
   "display_name": "Python 3 (ipykernel)",
   "language": "python",
   "name": "python3"
  },
  "language_info": {
   "codemirror_mode": {
    "name": "ipython",
    "version": 3
   },
   "file_extension": ".py",
   "mimetype": "text/x-python",
   "name": "python",
   "nbconvert_exporter": "python",
   "pygments_lexer": "ipython3",
   "version": "3.11.7"
  }
 },
 "nbformat": 4,
 "nbformat_minor": 5
}
