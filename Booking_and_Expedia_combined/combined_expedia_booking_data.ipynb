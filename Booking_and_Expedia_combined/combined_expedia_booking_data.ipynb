{
 "cells": [
  {
   "cell_type": "code",
   "execution_count": 20,
   "id": "7de53f39-710f-42f0-8756-8553e20ac0f5",
   "metadata": {},
   "outputs": [],
   "source": [
    "import pandas as pd"
   ]
  },
  {
   "cell_type": "code",
   "execution_count": 21,
   "id": "c48a04ca-dfe9-4371-a9ed-3c9eb2efd477",
   "metadata": {},
   "outputs": [],
   "source": [
    "expedia_df = pd.read_csv(r\"C:\\Users\\User\\Desktop\\expedia_clean_dfs\\expedia_clean_df_05_07.csv\")\n",
    "booking_df = pd.read_csv(r\"C:\\Users\\User\\Desktop\\booking\\booking_hotels_clean_data_05_07.csv\")\n",
    "\n",
    "expedia_df = expedia_df.drop_duplicates(subset=[\"TTT\", \"LOS\", \"name\"])\n",
    "booking_df = booking_df.drop_duplicates(subset=[\"TTT\", \"los\", \"name\"])"
   ]
  },
  {
   "cell_type": "code",
   "execution_count": 24,
   "id": "e97b15ce-6504-496c-a769-b32c73f028e3",
   "metadata": {},
   "outputs": [],
   "source": [
    "booking_df = booking_df.rename(columns={\"los\": \"LOS\"})"
   ]
  },
  {
   "cell_type": "code",
   "execution_count": 25,
   "id": "73090cde-c3ea-46f2-a497-5545be368934",
   "metadata": {},
   "outputs": [],
   "source": [
    "expedia_df[\"price\"] = expedia_df[\"price_per_night\"] * expedia_df[\"LOS\"]"
   ]
  },
  {
   "cell_type": "code",
   "execution_count": 26,
   "id": "4e228d30-ce8e-48ac-86bd-06420df26d04",
   "metadata": {},
   "outputs": [],
   "source": [
    "combined_df = pd.merge(expedia_df, booking_df, on=['TTT', 'LOS', 'name'], suffixes=('_expedia', '_booking'))"
   ]
  },
  {
   "cell_type": "code",
   "execution_count": 27,
   "id": "9f041b37-190c-4205-bc2a-b7ad3c2e62ac",
   "metadata": {},
   "outputs": [],
   "source": [
    "combined_df['price_difference'] = combined_df['price_booking'] - combined_df['price_expedia']"
   ]
  },
  {
   "cell_type": "code",
   "execution_count": 28,
   "id": "f60de5d7-4e56-4f58-84a6-d5e358b4958a",
   "metadata": {},
   "outputs": [
    {
     "data": {
      "text/html": [
       "<div>\n",
       "<style scoped>\n",
       "    .dataframe tbody tr th:only-of-type {\n",
       "        vertical-align: middle;\n",
       "    }\n",
       "\n",
       "    .dataframe tbody tr th {\n",
       "        vertical-align: top;\n",
       "    }\n",
       "\n",
       "    .dataframe thead th {\n",
       "        text-align: right;\n",
       "    }\n",
       "</style>\n",
       "<table border=\"1\" class=\"dataframe\">\n",
       "  <thead>\n",
       "    <tr style=\"text-align: right;\">\n",
       "      <th></th>\n",
       "      <th>price_expedia</th>\n",
       "      <th>price_booking</th>\n",
       "      <th>price_difference</th>\n",
       "    </tr>\n",
       "  </thead>\n",
       "  <tbody>\n",
       "    <tr>\n",
       "      <th>0</th>\n",
       "      <td>188</td>\n",
       "      <td>243.0</td>\n",
       "      <td>55.0</td>\n",
       "    </tr>\n",
       "    <tr>\n",
       "      <th>1</th>\n",
       "      <td>246</td>\n",
       "      <td>331.0</td>\n",
       "      <td>85.0</td>\n",
       "    </tr>\n",
       "    <tr>\n",
       "      <th>2</th>\n",
       "      <td>231</td>\n",
       "      <td>298.0</td>\n",
       "      <td>67.0</td>\n",
       "    </tr>\n",
       "    <tr>\n",
       "      <th>3</th>\n",
       "      <td>245</td>\n",
       "      <td>285.0</td>\n",
       "      <td>40.0</td>\n",
       "    </tr>\n",
       "    <tr>\n",
       "      <th>4</th>\n",
       "      <td>224</td>\n",
       "      <td>289.0</td>\n",
       "      <td>65.0</td>\n",
       "    </tr>\n",
       "    <tr>\n",
       "      <th>...</th>\n",
       "      <td>...</td>\n",
       "      <td>...</td>\n",
       "      <td>...</td>\n",
       "    </tr>\n",
       "    <tr>\n",
       "      <th>7905</th>\n",
       "      <td>970</td>\n",
       "      <td>1265.0</td>\n",
       "      <td>295.0</td>\n",
       "    </tr>\n",
       "    <tr>\n",
       "      <th>7906</th>\n",
       "      <td>1015</td>\n",
       "      <td>1369.0</td>\n",
       "      <td>354.0</td>\n",
       "    </tr>\n",
       "    <tr>\n",
       "      <th>7907</th>\n",
       "      <td>1125</td>\n",
       "      <td>1311.0</td>\n",
       "      <td>186.0</td>\n",
       "    </tr>\n",
       "    <tr>\n",
       "      <th>7908</th>\n",
       "      <td>595</td>\n",
       "      <td>703.0</td>\n",
       "      <td>108.0</td>\n",
       "    </tr>\n",
       "    <tr>\n",
       "      <th>7909</th>\n",
       "      <td>900</td>\n",
       "      <td>1170.0</td>\n",
       "      <td>270.0</td>\n",
       "    </tr>\n",
       "  </tbody>\n",
       "</table>\n",
       "<p>7910 rows × 3 columns</p>\n",
       "</div>"
      ],
      "text/plain": [
       "      price_expedia  price_booking  price_difference\n",
       "0               188          243.0              55.0\n",
       "1               246          331.0              85.0\n",
       "2               231          298.0              67.0\n",
       "3               245          285.0              40.0\n",
       "4               224          289.0              65.0\n",
       "...             ...            ...               ...\n",
       "7905            970         1265.0             295.0\n",
       "7906           1015         1369.0             354.0\n",
       "7907           1125         1311.0             186.0\n",
       "7908            595          703.0             108.0\n",
       "7909            900         1170.0             270.0\n",
       "\n",
       "[7910 rows x 3 columns]"
      ]
     },
     "execution_count": 28,
     "metadata": {},
     "output_type": "execute_result"
    }
   ],
   "source": [
    "combined_df[[\"price_expedia\", \"price_booking\", \"price_difference\"]]"
   ]
  },
  {
   "cell_type": "code",
   "execution_count": 29,
   "id": "faeae30b-d8c5-4580-9521-6c712812365d",
   "metadata": {},
   "outputs": [],
   "source": [
    "combined_df.to_csv(r\"C:\\Users\\User\\Desktop\\booking_and_expedia\\booking_expedia_combined_05_07.csv\", index=False)"
   ]
  },
  {
   "cell_type": "code",
   "execution_count": null,
   "id": "715ae87b-f7b9-4996-bb90-2e13ec410a18",
   "metadata": {},
   "outputs": [],
   "source": []
  }
 ],
 "metadata": {
  "kernelspec": {
   "display_name": "Python 3 (ipykernel)",
   "language": "python",
   "name": "python3"
  },
  "language_info": {
   "codemirror_mode": {
    "name": "ipython",
    "version": 3
   },
   "file_extension": ".py",
   "mimetype": "text/x-python",
   "name": "python",
   "nbconvert_exporter": "python",
   "pygments_lexer": "ipython3",
   "version": "3.11.7"
  }
 },
 "nbformat": 4,
 "nbformat_minor": 5
}
