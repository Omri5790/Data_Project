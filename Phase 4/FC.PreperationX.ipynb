{
 "cells": [
  {
   "cell_type": "code",
   "execution_count": null,
   "id": "ecd5557f-3f2f-4666-8427-0782c4acdcb7",
   "metadata": {},
   "outputs": [],
   "source": []
  },
  {
   "cell_type": "code",
   "execution_count": 25,
   "id": "01c7652c-485d-4dfa-95d4-8a3acf04bbbb",
   "metadata": {
    "jp-MarkdownHeadingCollapsed": true
   },
   "outputs": [
    {
     "name": "stdout",
     "output_type": "stream",
     "text": [
      "done\n"
     ]
    }
   ],
   "source": [
    "# Import necessary libraries\n",
    "import pandas as pd\n",
    "import numpy as np\n",
    "from sklearn.model_selection import train_test_split\n",
    "from sklearn.impute import SimpleImputer\n",
    "\n",
    "# Load the data\n",
    "booking_df1 = pd.read_csv(\"25_06_hotels_data_cleaned_with_days_name_parameters_period_encoded (1).csv\")\n",
    "expedia_df1 = pd.read_csv(\"expedia_clean_df_normalized_with_features_engineering_25_06.csv\")\n",
    "booking_df2 = pd.read_csv(\"05_07_hotels_data_cleaned_with_days_name_parameters_period_encoded (1).csv\")\n",
    "expedia_df2 = pd.read_csv(\"Clean Final_booking_expedia_combined_05_07.csv\")\n",
    "booking_df3 = pd.read_csv(\"20_06_hotels_data_cleaned_with_new_parameters_encoded (2).csv\")\n",
    "expedia_df3 = pd.read_csv(\"Clean Final_booking_expedia_combined_20_06.csv\")\n",
    "\n",
    "# Rename 'los' column in booking_df to 'LOS' to match expedia_df\n",
    "booking_df1.rename(columns={'los': 'LOS'}, inplace=True)\n",
    "booking_df2.rename(columns={'los': 'LOS'}, inplace=True)\n",
    "booking_df3.rename(columns={'los': 'LOS'}, inplace=True)\n",
    "\n",
    "# Merge the dataframes on common columns (e.g., name, TTT, LOS)\n",
    "merged_df1 = pd.merge(booking_df1, expedia_df1, on=['name', 'TTT', 'LOS'], suffixes=('_booking', '_expedia'))\n",
    "merged_df2 = pd.merge(booking_df2, expedia_df2, on=['name', 'TTT', 'LOS'], suffixes=('_booking', '_expedia'))\n",
    "merged_df3 = pd.merge(booking_df3, expedia_df3, on=['name', 'TTT', 'LOS'], suffixes=('_booking', '_expedia'))\n",
    "\n",
    "\n",
    "# Combine all merged dataframes\n",
    "merged_df = pd.concat([merged_df1, merged_df2, merged_df3], ignore_index=True)\n",
    "\n",
    "# Calculate the price difference\n",
    "merged_df['price_difference'] = merged_df['price_per_night_booking'] - merged_df['price_per_night_expedia']\n",
    "\n",
    "# Additional feature engineering\n",
    "merged_df['price_ratio'] = merged_df['price_per_night_booking'] / merged_df['price_per_night_expedia']\n",
    "merged_df['score_diff'] = merged_df['score_booking'] - merged_df['score_expedia']\n",
    "merged_df['reviews_diff'] = merged_df['reviews_booking'] - merged_df['reviews_expedia']\n",
    "merged_df['star_rating_diff'] = merged_df['star_rating_booking'] - merged_df['star_rating_expedia']\n",
    "merged_df['location_rating_diff'] = merged_df['location_rating_booking'] - merged_df['location_rating_expedia']\n",
    "merged_df['km_diff'] = merged_df['km_from_center_booking'] - merged_df['km_from_center_expedia']\n",
    "merged_df['cancellation_diff'] = merged_df['Free_cancellation_booking'] - merged_df['Free_cancellation_expedia']\n",
    "merged_df['breakfast_diff'] = merged_df['Breakfast_booking'] - merged_df['Breakfast_expedia']\n",
    "\n",
    "# Replace infinity values with NaN\n",
    "merged_df.replace([np.inf, -np.inf], np.nan, inplace=True)\n",
    "\n",
    "# Select relevant features\n",
    "features = [\n",
    "    'score_expedia', 'reviews_expedia', 'star_rating_expedia', 'location_rating_expedia',\n",
    "    'km_from_center_expedia', 'Free_cancellation_expedia', 'Breakfast_expedia',\n",
    "    'score_booking', 'reviews_booking', 'star_rating_booking', 'location_rating_booking',\n",
    "    'km_from_center_booking', 'Free_cancellation_booking', 'Breakfast_booking',\n",
    "    'score_diff', 'reviews_diff', 'star_rating_diff', 'location_rating_diff',\n",
    "    'km_diff', 'cancellation_diff', 'breakfast_diff', 'index', 'Index',\n",
    "    'LOS', 'discount_perc', 'Option Member', 'star_rating_expedia',\n",
    "    'location_rating_expedia', 'km_from_center_expedia',\n",
    "]\n",
    "\n",
    "# Handle missing values\n",
    "imputer = SimpleImputer(strategy='mean')\n",
    "merged_df[features] = imputer.fit_transform(merged_df[features])\n",
    "\n",
    "# Split the data into train and test sets\n",
    "X = merged_df[features]\n",
    "y = merged_df['price_difference']\n",
    "X_train, X_test, y_train, y_test = train_test_split(X, y, test_size=0.3, random_state=42)\n",
    "\n",
    "# Ensure y_train and y_test are 1-dimensional\n",
    "y_train = y_train.ravel()\n",
    "y_test = y_test.ravel()\n",
    "\n",
    "# Save the prepared data to CSV files\n",
    "X_train.to_csv('X_train.csv', index=False)\n",
    "X_test.to_csv('X_test.csv', index=False)\n",
    "pd.DataFrame(y_train, columns=['price_difference']).to_csv('y_train.csv', index=False)\n",
    "pd.DataFrame(y_test, columns=['price_difference']).to_csv('y_test.csv', index=False)\n",
    "print(\"done\")\n"
   ]
  },
  {
   "cell_type": "code",
   "execution_count": 23,
   "id": "ae904db1-c0db-4b7d-b635-23fd40cea35b",
   "metadata": {},
   "outputs": [
    {
     "data": {
      "text/plain": [
       "0        2.463257\n",
       "1        0.399456\n",
       "2       -0.131144\n",
       "3        1.217962\n",
       "4        0.632339\n",
       "           ...   \n",
       "22337   -0.226972\n",
       "22338    0.607906\n",
       "22339   -0.678774\n",
       "22340   -0.281410\n",
       "22341   -0.642011\n",
       "Name: price_per_night_expedia, Length: 22342, dtype: float64"
      ]
     },
     "execution_count": 23,
     "metadata": {},
     "output_type": "execute_result"
    }
   ],
   "source": [
    "\n"
   ]
  },
  {
   "cell_type": "code",
   "execution_count": null,
   "id": "5f1e3b10-6837-4346-9d35-d94220736256",
   "metadata": {},
   "outputs": [],
   "source": []
  }
 ],
 "metadata": {
  "kernelspec": {
   "display_name": "Python 3 (ipykernel)",
   "language": "python",
   "name": "python3"
  },
  "language_info": {
   "codemirror_mode": {
    "name": "ipython",
    "version": 3
   },
   "file_extension": ".py",
   "mimetype": "text/x-python",
   "name": "python",
   "nbconvert_exporter": "python",
   "pygments_lexer": "ipython3",
   "version": "3.11.7"
  }
 },
 "nbformat": 4,
 "nbformat_minor": 5
}
