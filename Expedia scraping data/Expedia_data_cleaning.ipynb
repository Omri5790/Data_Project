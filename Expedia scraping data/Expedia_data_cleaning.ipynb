{
 "cells": [
  {
   "cell_type": "code",
   "execution_count": 217,
   "id": "2b5c93be-ce08-4174-8aa3-81a16ba7e60f",
   "metadata": {},
   "outputs": [],
   "source": [
    "import pandas as pd\n",
    "import numpy as np\n",
    "import re"
   ]
  },
  {
   "cell_type": "code",
   "execution_count": 218,
   "id": "de511cd5-ccb3-43b0-add1-5fbd97565efa",
   "metadata": {},
   "outputs": [],
   "source": [
    "# Load the CSV file\n",
    "expedia_file_path = r\"C:\\Users\\User\\Desktop\\Expedia\\last_output_df_07_05_2024.csv\"\n",
    "booking_file_path = r\"C:\\Users\\User\\Desktop\\booking\\booking_hotels_clean_data_05_07.csv\"\n",
    "OUTPUT_FILE_PATH = r\"C:\\Users\\User\\Desktop\\expedia_clean_dfs\\expedia_clean_df_05_07.csv\"\n",
    "df = pd.read_csv(expedia_file_path)"
   ]
  },
  {
   "cell_type": "code",
   "execution_count": 219,
   "id": "c3cd3af6-d4a9-49bc-a5ff-36299d06ee14",
   "metadata": {},
   "outputs": [],
   "source": [
    "# change columns names\n",
    "df = df.rename(columns={'Hotel Name': \"name\", \"Grade\": \"score\", \"Num of Reviews\": \"reviews\", \"Curr Price\": \"price_per_night\", \"Original Price\": \"original_price\", \"Percentage of discount\": \"discount_perc\"})\n",
    "df = df.rename(columns={\"Is refundable\": \"Free_cancellation\", \"Late payment\": \"No_payment\", \"Breakfast included\": \"Breakfast\", \"rating-star\": \"star_rating\"})"
   ]
  },
  {
   "cell_type": "code",
   "execution_count": 220,
   "id": "3559e27d-bfb2-4f02-9ad7-53b612ec4907",
   "metadata": {},
   "outputs": [
    {
     "name": "stdout",
     "output_type": "stream",
     "text": [
      "expedia df shape: (29794, 21)\n",
      "expedia df columns: Index(['Snapshot', 'start_date', 'end_date', 'name', 'TTT', 'LOS', 'score',\n",
      "       'reviews', 'price_per_night', 'original_price', 'discount_perc',\n",
      "       'Free_cancellation', 'No_payment', 'Breakfast', 'Option Member',\n",
      "       'Index', 'star_rating', 'location_rating', 'neighborhood',\n",
      "       'km_from_center', 'neighborhood_category'],\n",
      "      dtype='object')\n"
     ]
    }
   ],
   "source": [
    "print(f\"expedia df shape: {df.shape}\")\n",
    "print(f\"expedia df columns: {df.columns}\")"
   ]
  },
  {
   "cell_type": "code",
   "execution_count": 221,
   "id": "b7935b8e-4bad-4ca9-acdf-7e1ea0930e47",
   "metadata": {},
   "outputs": [
    {
     "name": "stdout",
     "output_type": "stream",
     "text": [
      "booking df shape: (25571, 23)\n",
      "booking df columns: Index(['name', 'score', 'reviews', 'room_type', 'bed_type', 'price',\n",
      "       'availability', 'los', 'url', 'star_rating', 'location_rating',\n",
      "       'Snapshot', 'Free_cancellation', 'No_prepayment', 'Limited_rooms',\n",
      "       'TTT', 'Breakfast', 'index', 'neighborhood', 'km_from_center',\n",
      "       'price_per_night', 'room_rate', 'neighborhood_category'],\n",
      "      dtype='object')\n"
     ]
    }
   ],
   "source": [
    "booking_df = pd.read_csv(booking_file_path)\n",
    "print(f\"booking df shape: {booking_df.shape}\")\n",
    "print(f\"booking df columns: {booking_df.columns}\")"
   ]
  },
  {
   "cell_type": "code",
   "execution_count": 222,
   "id": "b8695be8-fc8c-491b-a0cc-ba256ab518f3",
   "metadata": {},
   "outputs": [
    {
     "data": {
      "text/plain": [
       "Index(['Snapshot', 'start_date', 'end_date', 'name', 'TTT', 'LOS', 'score',\n",
       "       'reviews', 'price_per_night', 'original_price', 'discount_perc',\n",
       "       'Free_cancellation', 'No_payment', 'Breakfast', 'Option Member',\n",
       "       'Index'],\n",
       "      dtype='object')"
      ]
     },
     "execution_count": 222,
     "metadata": {},
     "output_type": "execute_result"
    }
   ],
   "source": [
    "df = df.drop([\"star_rating\", \"location_rating\", \"neighborhood\", \"km_from_center\", \"neighborhood_category\"], axis=1)\n",
    "df.columns"
   ]
  },
  {
   "cell_type": "code",
   "execution_count": 223,
   "id": "c4852158-6b7f-4765-a9f5-29ed7eb41554",
   "metadata": {},
   "outputs": [],
   "source": [
    "# drop duplicates from both dataframes (booking and expedia)\n",
    "subset_cols = [\"name\", \"TTT\", \"LOS\"]\n",
    "df = df.drop_duplicates(subset=subset_cols, keep='first')\n",
    "booking_df = booking_df.drop_duplicates(subset=[\"name\", \"TTT\", \"los\"], keep='first')"
   ]
  },
  {
   "cell_type": "code",
   "execution_count": 240,
   "id": "18b7eeb9-8790-435c-9616-77035c42a3e8",
   "metadata": {},
   "outputs": [
    {
     "name": "stdout",
     "output_type": "stream",
     "text": [
      "expedia df shape: (14674, 21)\n",
      "expedia df columns: Index(['Snapshot', 'start_date', 'end_date', 'name', 'TTT', 'LOS', 'score',\n",
      "       'reviews', 'price_per_night', 'original_price', 'discount_perc',\n",
      "       'Free_cancellation', 'No_payment', 'Breakfast', 'Option Member',\n",
      "       'Index', 'star_rating', 'location_rating', 'neighborhood',\n",
      "       'km_from_center', 'neighborhood_category'],\n",
      "      dtype='object')\n",
      "\n",
      "booking df shape: (25571, 23)\n",
      "booking df columns: Index(['name', 'score', 'reviews', 'room_type', 'bed_type', 'price',\n",
      "       'availability', 'los', 'url', 'star_rating', 'location_rating',\n",
      "       'Snapshot', 'Free_cancellation', 'No_prepayment', 'Limited_rooms',\n",
      "       'TTT', 'Breakfast', 'index', 'neighborhood', 'km_from_center',\n",
      "       'price_per_night', 'room_rate', 'neighborhood_category'],\n",
      "      dtype='object')\n"
     ]
    }
   ],
   "source": [
    "print(f\"expedia df shape: {df.shape}\")\n",
    "print(f\"expedia df columns: {df.columns}\")\n",
    "print()\n",
    "print(f\"booking df shape: {booking_df.shape}\")\n",
    "print(f\"booking df columns: {booking_df.columns}\")"
   ]
  },
  {
   "cell_type": "code",
   "execution_count": 225,
   "id": "60bdc714-eefb-494a-81c3-cdae4d01f0f8",
   "metadata": {},
   "outputs": [
    {
     "name": "stdout",
     "output_type": "stream",
     "text": [
      "unique hotels in expedia df = 532\n",
      "unique hotels in booking df = 405\n"
     ]
    }
   ],
   "source": [
    "print(f\"unique hotels in expedia df = {len(df['name'].unique())}\")\n",
    "print(f\"unique hotels in booking df = {len(booking_df['name'].unique())}\")"
   ]
  },
  {
   "cell_type": "code",
   "execution_count": 226,
   "id": "67154851-b608-439d-88c5-1a3560dfbfe2",
   "metadata": {},
   "outputs": [
    {
     "name": "stdout",
     "output_type": "stream",
     "text": [
      "Amount of combined hotels:\n",
      "203\n"
     ]
    }
   ],
   "source": [
    "print(\"Amount of combined hotels:\")\n",
    "print(len(df[df[\"name\"].isin(booking_df['name'].unique())][\"name\"].unique()))"
   ]
  },
  {
   "cell_type": "code",
   "execution_count": 227,
   "id": "a9f9c499-61df-4306-b18f-80941afc0ba4",
   "metadata": {},
   "outputs": [
    {
     "name": "stdout",
     "output_type": "stream",
     "text": [
      "(14674, 16)\n"
     ]
    }
   ],
   "source": [
    "df = df[df[\"name\"].isin(booking_df['name'].unique())]\n",
    "print(df.shape)"
   ]
  },
  {
   "cell_type": "code",
   "execution_count": 228,
   "id": "ac1e6ca4-6769-42c8-b770-7822f624a764",
   "metadata": {},
   "outputs": [],
   "source": [
    "# df = df.drop([\"Location grade\", \"Distance from center\"], axis=1)"
   ]
  },
  {
   "cell_type": "code",
   "execution_count": 229,
   "id": "3bad2623-256b-42fa-9481-49cf8afd871f",
   "metadata": {},
   "outputs": [],
   "source": [
    "# change columns names\n",
    "# df = df.rename(columns={'Hotel Name': \"name\", \"Grade\": \"score\", \"Num of Reviews\": \"reviews\", \"Curr Price\": \"price_per_night\", \"Original Price\": \"original_price\", \"Percentage of discount\": \"discount_perc\"})\n",
    "# df = df.rename(columns={\"Is refundable\": \"Free_cancellation\", \"Late payment\": \"No_payment\", \"Breakfast included\": \"Breakfast\", \"rating-star\": \"star_rating\"})"
   ]
  },
  {
   "cell_type": "code",
   "execution_count": 230,
   "id": "4d3f4dac-895a-4e16-b0c1-d3239aef0fe1",
   "metadata": {},
   "outputs": [
    {
     "data": {
      "text/plain": [
       "Index(['Snapshot', 'start_date', 'end_date', 'name', 'TTT', 'LOS', 'score',\n",
       "       'reviews', 'price_per_night', 'original_price', 'discount_perc',\n",
       "       'Free_cancellation', 'No_payment', 'Breakfast', 'Option Member',\n",
       "       'Index', 'star_rating', 'location_rating', 'neighborhood',\n",
       "       'km_from_center', 'neighborhood_category'],\n",
       "      dtype='object')"
      ]
     },
     "execution_count": 230,
     "metadata": {},
     "output_type": "execute_result"
    }
   ],
   "source": [
    "def copy_data_from_booking_hotels(booking_df, expedia_df):\n",
    "    unique_booking_hotels_data = booking_df.drop_duplicates(subset=\"name\")\n",
    "    expedia_df = expedia_df.merge(unique_booking_hotels_data[[\"name\", \"star_rating\", \"location_rating\", \"neighborhood\", \"km_from_center\", \"neighborhood_category\"]], on=\"name\", how='left')\n",
    "    return expedia_df\n",
    "\n",
    "df = copy_data_from_booking_hotels(booking_df, df)\n",
    "df.columns"
   ]
  },
  {
   "cell_type": "code",
   "execution_count": 231,
   "id": "6e98acf7-9de6-49d2-8a8a-7e611b65ccdb",
   "metadata": {},
   "outputs": [],
   "source": [
    "def clean_data(df):\n",
    "    # Remove non-numeric characters and convert to float for 'score'\n",
    "    df['score'] = df['score'].astype(str).str.extract(r'(\\d+\\.\\d+)')[0].astype(float)\n",
    "    \n",
    "    # Remove non-numeric characters for 'reviews' and handle empty strings\n",
    "    df['reviews'] = df['reviews'].astype(str).str.replace(r'\\D', '', regex=True)\n",
    "    df['reviews'] = pd.to_numeric(df['reviews'], errors='coerce').fillna(0).astype(int)\n",
    "    \n",
    "    # Remove non-numeric characters for 'price_per_night' and handle empty strings\n",
    "    df['price_per_night'] = df['price_per_night'].astype(str).str.replace(r'[^\\d.]', '', regex=True)\n",
    "    df['price_per_night'] = pd.to_numeric(df['price_per_night'], errors='coerce').fillna(0.0)\n",
    "\n",
    "    # df['price_per_night'] = df['price_per_night'] / 100\n",
    "    \n",
    "    # Remove non-numeric characters for 'original_price' and handle empty strings\n",
    "    df['original_price'] = df['original_price'].astype(str).str.replace(r'[^\\d.]', '', regex=True)\n",
    "    df['original_price'] = pd.to_numeric(df['original_price'], errors='coerce').fillna(0.0)\n",
    "    \n",
    "    # Convert 'Breakfast included' to string and update column to True/False\n",
    "    df['Breakfast'] = df['Breakfast'].astype(str).str.contains('breakfast', case=False, na=False)\n",
    "    \n",
    "    return df"
   ]
  },
  {
   "cell_type": "code",
   "execution_count": 232,
   "id": "47146715-914d-4f5e-b2af-3b5676059ef0",
   "metadata": {},
   "outputs": [],
   "source": [
    "df = clean_data(df)"
   ]
  },
  {
   "cell_type": "code",
   "execution_count": 233,
   "id": "c70f509d-1d0e-4372-bdb1-3cc5547dca78",
   "metadata": {},
   "outputs": [
    {
     "data": {
      "text/html": [
       "<div>\n",
       "<style scoped>\n",
       "    .dataframe tbody tr th:only-of-type {\n",
       "        vertical-align: middle;\n",
       "    }\n",
       "\n",
       "    .dataframe tbody tr th {\n",
       "        vertical-align: top;\n",
       "    }\n",
       "\n",
       "    .dataframe thead th {\n",
       "        text-align: right;\n",
       "    }\n",
       "</style>\n",
       "<table border=\"1\" class=\"dataframe\">\n",
       "  <thead>\n",
       "    <tr style=\"text-align: right;\">\n",
       "      <th></th>\n",
       "      <th>Snapshot</th>\n",
       "      <th>start_date</th>\n",
       "      <th>end_date</th>\n",
       "      <th>name</th>\n",
       "      <th>TTT</th>\n",
       "      <th>LOS</th>\n",
       "      <th>score</th>\n",
       "      <th>reviews</th>\n",
       "      <th>price_per_night</th>\n",
       "      <th>original_price</th>\n",
       "      <th>...</th>\n",
       "      <th>Free_cancellation</th>\n",
       "      <th>No_payment</th>\n",
       "      <th>Breakfast</th>\n",
       "      <th>Option Member</th>\n",
       "      <th>Index</th>\n",
       "      <th>star_rating</th>\n",
       "      <th>location_rating</th>\n",
       "      <th>neighborhood</th>\n",
       "      <th>km_from_center</th>\n",
       "      <th>neighborhood_category</th>\n",
       "    </tr>\n",
       "  </thead>\n",
       "  <tbody>\n",
       "    <tr>\n",
       "      <th>0</th>\n",
       "      <td>14:43.1</td>\n",
       "      <td>06/07/2024</td>\n",
       "      <td>07/07/2024</td>\n",
       "      <td>Omni Berkshire Place</td>\n",
       "      <td>1</td>\n",
       "      <td>1</td>\n",
       "      <td>9.29</td>\n",
       "      <td>1223</td>\n",
       "      <td>269</td>\n",
       "      <td>299</td>\n",
       "      <td>...</td>\n",
       "      <td>False</td>\n",
       "      <td>False</td>\n",
       "      <td>False</td>\n",
       "      <td>False</td>\n",
       "      <td>3</td>\n",
       "      <td>4.0</td>\n",
       "      <td>9.6</td>\n",
       "      <td>Midtown East</td>\n",
       "      <td>1.1</td>\n",
       "      <td>Midtown Manhattan</td>\n",
       "    </tr>\n",
       "    <tr>\n",
       "      <th>1</th>\n",
       "      <td>14:43.1</td>\n",
       "      <td>06/07/2024</td>\n",
       "      <td>07/07/2024</td>\n",
       "      <td>The Washington by LuxUrban</td>\n",
       "      <td>1</td>\n",
       "      <td>1</td>\n",
       "      <td>8.28</td>\n",
       "      <td>1006</td>\n",
       "      <td>188</td>\n",
       "      <td>209</td>\n",
       "      <td>...</td>\n",
       "      <td>True</td>\n",
       "      <td>False</td>\n",
       "      <td>False</td>\n",
       "      <td>False</td>\n",
       "      <td>6</td>\n",
       "      <td>4.0</td>\n",
       "      <td>9.4</td>\n",
       "      <td>Manhattan</td>\n",
       "      <td>7.1</td>\n",
       "      <td>Other Manhattan</td>\n",
       "    </tr>\n",
       "    <tr>\n",
       "      <th>2</th>\n",
       "      <td>14:43.2</td>\n",
       "      <td>06/07/2024</td>\n",
       "      <td>07/07/2024</td>\n",
       "      <td>Hyatt Grand Central New York</td>\n",
       "      <td>1</td>\n",
       "      <td>1</td>\n",
       "      <td>8.08</td>\n",
       "      <td>3726</td>\n",
       "      <td>246</td>\n",
       "      <td>289</td>\n",
       "      <td>...</td>\n",
       "      <td>False</td>\n",
       "      <td>False</td>\n",
       "      <td>False</td>\n",
       "      <td>False</td>\n",
       "      <td>11</td>\n",
       "      <td>4.0</td>\n",
       "      <td>NaN</td>\n",
       "      <td>Midtown East</td>\n",
       "      <td>1.9</td>\n",
       "      <td>Midtown Manhattan</td>\n",
       "    </tr>\n",
       "    <tr>\n",
       "      <th>3</th>\n",
       "      <td>14:43.2</td>\n",
       "      <td>06/07/2024</td>\n",
       "      <td>07/07/2024</td>\n",
       "      <td>The Cloud One New York-Downtown, by the Motel ...</td>\n",
       "      <td>1</td>\n",
       "      <td>1</td>\n",
       "      <td>8.88</td>\n",
       "      <td>625</td>\n",
       "      <td>189</td>\n",
       "      <td>0</td>\n",
       "      <td>...</td>\n",
       "      <td>False</td>\n",
       "      <td>False</td>\n",
       "      <td>False</td>\n",
       "      <td>False</td>\n",
       "      <td>12</td>\n",
       "      <td>4.0</td>\n",
       "      <td>8.9</td>\n",
       "      <td>Manhattan</td>\n",
       "      <td>7.0</td>\n",
       "      <td>Other Manhattan</td>\n",
       "    </tr>\n",
       "    <tr>\n",
       "      <th>4</th>\n",
       "      <td>14:43.2</td>\n",
       "      <td>06/07/2024</td>\n",
       "      <td>07/07/2024</td>\n",
       "      <td>45 Times Square Hotel</td>\n",
       "      <td>1</td>\n",
       "      <td>1</td>\n",
       "      <td>8.68</td>\n",
       "      <td>1268</td>\n",
       "      <td>270</td>\n",
       "      <td>300</td>\n",
       "      <td>...</td>\n",
       "      <td>False</td>\n",
       "      <td>False</td>\n",
       "      <td>False</td>\n",
       "      <td>True</td>\n",
       "      <td>13</td>\n",
       "      <td>3.0</td>\n",
       "      <td>9.6</td>\n",
       "      <td>Manhattan</td>\n",
       "      <td>1.2</td>\n",
       "      <td>Other Manhattan</td>\n",
       "    </tr>\n",
       "    <tr>\n",
       "      <th>...</th>\n",
       "      <td>...</td>\n",
       "      <td>...</td>\n",
       "      <td>...</td>\n",
       "      <td>...</td>\n",
       "      <td>...</td>\n",
       "      <td>...</td>\n",
       "      <td>...</td>\n",
       "      <td>...</td>\n",
       "      <td>...</td>\n",
       "      <td>...</td>\n",
       "      <td>...</td>\n",
       "      <td>...</td>\n",
       "      <td>...</td>\n",
       "      <td>...</td>\n",
       "      <td>...</td>\n",
       "      <td>...</td>\n",
       "      <td>...</td>\n",
       "      <td>...</td>\n",
       "      <td>...</td>\n",
       "      <td>...</td>\n",
       "      <td>...</td>\n",
       "    </tr>\n",
       "    <tr>\n",
       "      <th>14669</th>\n",
       "      <td>36:55.4</td>\n",
       "      <td>04/08/2024</td>\n",
       "      <td>09/08/2024</td>\n",
       "      <td>The Algonquin Hotel Times Square, Autograph Co...</td>\n",
       "      <td>30</td>\n",
       "      <td>5</td>\n",
       "      <td>8.88</td>\n",
       "      <td>1002</td>\n",
       "      <td>265</td>\n",
       "      <td>301</td>\n",
       "      <td>...</td>\n",
       "      <td>False</td>\n",
       "      <td>False</td>\n",
       "      <td>False</td>\n",
       "      <td>False</td>\n",
       "      <td>239</td>\n",
       "      <td>4.0</td>\n",
       "      <td>9.5</td>\n",
       "      <td>Manhattan</td>\n",
       "      <td>1.3</td>\n",
       "      <td>Other Manhattan</td>\n",
       "    </tr>\n",
       "    <tr>\n",
       "      <th>14670</th>\n",
       "      <td>36:55.4</td>\n",
       "      <td>04/08/2024</td>\n",
       "      <td>09/08/2024</td>\n",
       "      <td>Archer Hotel New York</td>\n",
       "      <td>30</td>\n",
       "      <td>5</td>\n",
       "      <td>9.29</td>\n",
       "      <td>1004</td>\n",
       "      <td>318</td>\n",
       "      <td>0</td>\n",
       "      <td>...</td>\n",
       "      <td>False</td>\n",
       "      <td>False</td>\n",
       "      <td>False</td>\n",
       "      <td>False</td>\n",
       "      <td>241</td>\n",
       "      <td>4.0</td>\n",
       "      <td>9.5</td>\n",
       "      <td>Manhattan</td>\n",
       "      <td>1.8</td>\n",
       "      <td>Other Manhattan</td>\n",
       "    </tr>\n",
       "    <tr>\n",
       "      <th>14671</th>\n",
       "      <td>36:55.5</td>\n",
       "      <td>04/08/2024</td>\n",
       "      <td>09/08/2024</td>\n",
       "      <td>Renaissance New York Chelsea Hotel</td>\n",
       "      <td>30</td>\n",
       "      <td>5</td>\n",
       "      <td>8.48</td>\n",
       "      <td>620</td>\n",
       "      <td>258</td>\n",
       "      <td>323</td>\n",
       "      <td>...</td>\n",
       "      <td>False</td>\n",
       "      <td>False</td>\n",
       "      <td>False</td>\n",
       "      <td>False</td>\n",
       "      <td>244</td>\n",
       "      <td>4.0</td>\n",
       "      <td>NaN</td>\n",
       "      <td>Chelsea</td>\n",
       "      <td>2.8</td>\n",
       "      <td>Midtown Manhattan</td>\n",
       "    </tr>\n",
       "    <tr>\n",
       "      <th>14672</th>\n",
       "      <td>36:55.5</td>\n",
       "      <td>04/08/2024</td>\n",
       "      <td>09/08/2024</td>\n",
       "      <td>Hotel Elysee by Library Hotel Collection</td>\n",
       "      <td>30</td>\n",
       "      <td>5</td>\n",
       "      <td>9.29</td>\n",
       "      <td>1000</td>\n",
       "      <td>266</td>\n",
       "      <td>295</td>\n",
       "      <td>...</td>\n",
       "      <td>True</td>\n",
       "      <td>False</td>\n",
       "      <td>False</td>\n",
       "      <td>False</td>\n",
       "      <td>249</td>\n",
       "      <td>4.0</td>\n",
       "      <td>9.6</td>\n",
       "      <td>Midtown East</td>\n",
       "      <td>1.2</td>\n",
       "      <td>Midtown Manhattan</td>\n",
       "    </tr>\n",
       "    <tr>\n",
       "      <th>14673</th>\n",
       "      <td>36:55.5</td>\n",
       "      <td>04/08/2024</td>\n",
       "      <td>09/08/2024</td>\n",
       "      <td>Hotel Hugo</td>\n",
       "      <td>30</td>\n",
       "      <td>5</td>\n",
       "      <td>8.08</td>\n",
       "      <td>1002</td>\n",
       "      <td>234</td>\n",
       "      <td>260</td>\n",
       "      <td>...</td>\n",
       "      <td>True</td>\n",
       "      <td>False</td>\n",
       "      <td>False</td>\n",
       "      <td>True</td>\n",
       "      <td>250</td>\n",
       "      <td>4.0</td>\n",
       "      <td>NaN</td>\n",
       "      <td>SoHo</td>\n",
       "      <td>5.2</td>\n",
       "      <td>Downtown Manhattan</td>\n",
       "    </tr>\n",
       "  </tbody>\n",
       "</table>\n",
       "<p>14674 rows × 21 columns</p>\n",
       "</div>"
      ],
      "text/plain": [
       "      Snapshot  start_date    end_date  \\\n",
       "0      14:43.1  06/07/2024  07/07/2024   \n",
       "1      14:43.1  06/07/2024  07/07/2024   \n",
       "2      14:43.2  06/07/2024  07/07/2024   \n",
       "3      14:43.2  06/07/2024  07/07/2024   \n",
       "4      14:43.2  06/07/2024  07/07/2024   \n",
       "...        ...         ...         ...   \n",
       "14669  36:55.4  04/08/2024  09/08/2024   \n",
       "14670  36:55.4  04/08/2024  09/08/2024   \n",
       "14671  36:55.5  04/08/2024  09/08/2024   \n",
       "14672  36:55.5  04/08/2024  09/08/2024   \n",
       "14673  36:55.5  04/08/2024  09/08/2024   \n",
       "\n",
       "                                                    name  TTT  LOS  score  \\\n",
       "0                                   Omni Berkshire Place    1    1   9.29   \n",
       "1                             The Washington by LuxUrban    1    1   8.28   \n",
       "2                           Hyatt Grand Central New York    1    1   8.08   \n",
       "3      The Cloud One New York-Downtown, by the Motel ...    1    1   8.88   \n",
       "4                                  45 Times Square Hotel    1    1   8.68   \n",
       "...                                                  ...  ...  ...    ...   \n",
       "14669  The Algonquin Hotel Times Square, Autograph Co...   30    5   8.88   \n",
       "14670                              Archer Hotel New York   30    5   9.29   \n",
       "14671                 Renaissance New York Chelsea Hotel   30    5   8.48   \n",
       "14672           Hotel Elysee by Library Hotel Collection   30    5   9.29   \n",
       "14673                                         Hotel Hugo   30    5   8.08   \n",
       "\n",
       "       reviews  price_per_night  original_price  ...  Free_cancellation  \\\n",
       "0         1223              269             299  ...              False   \n",
       "1         1006              188             209  ...               True   \n",
       "2         3726              246             289  ...              False   \n",
       "3          625              189               0  ...              False   \n",
       "4         1268              270             300  ...              False   \n",
       "...        ...              ...             ...  ...                ...   \n",
       "14669     1002              265             301  ...              False   \n",
       "14670     1004              318               0  ...              False   \n",
       "14671      620              258             323  ...              False   \n",
       "14672     1000              266             295  ...               True   \n",
       "14673     1002              234             260  ...               True   \n",
       "\n",
       "       No_payment  Breakfast  Option Member  Index  star_rating  \\\n",
       "0           False      False          False      3          4.0   \n",
       "1           False      False          False      6          4.0   \n",
       "2           False      False          False     11          4.0   \n",
       "3           False      False          False     12          4.0   \n",
       "4           False      False           True     13          3.0   \n",
       "...           ...        ...            ...    ...          ...   \n",
       "14669       False      False          False    239          4.0   \n",
       "14670       False      False          False    241          4.0   \n",
       "14671       False      False          False    244          4.0   \n",
       "14672       False      False          False    249          4.0   \n",
       "14673       False      False           True    250          4.0   \n",
       "\n",
       "       location_rating  neighborhood km_from_center  neighborhood_category  \n",
       "0                  9.6  Midtown East            1.1      Midtown Manhattan  \n",
       "1                  9.4     Manhattan            7.1        Other Manhattan  \n",
       "2                  NaN  Midtown East            1.9      Midtown Manhattan  \n",
       "3                  8.9     Manhattan            7.0        Other Manhattan  \n",
       "4                  9.6     Manhattan            1.2        Other Manhattan  \n",
       "...                ...           ...            ...                    ...  \n",
       "14669              9.5     Manhattan            1.3        Other Manhattan  \n",
       "14670              9.5     Manhattan            1.8        Other Manhattan  \n",
       "14671              NaN       Chelsea            2.8      Midtown Manhattan  \n",
       "14672              9.6  Midtown East            1.2      Midtown Manhattan  \n",
       "14673              NaN          SoHo            5.2     Downtown Manhattan  \n",
       "\n",
       "[14674 rows x 21 columns]"
      ]
     },
     "execution_count": 233,
     "metadata": {},
     "output_type": "execute_result"
    }
   ],
   "source": [
    "# Display the cleaned DataFrame\n",
    "df"
   ]
  },
  {
   "cell_type": "code",
   "execution_count": 234,
   "id": "2450605c-d4a7-4cdd-a166-b3045af9de4b",
   "metadata": {},
   "outputs": [
    {
     "name": "stdout",
     "output_type": "stream",
     "text": [
      "  Snapshot  start_date    end_date  \\\n",
      "0  14:43.1  06/07/2024  07/07/2024   \n",
      "1  14:43.1  06/07/2024  07/07/2024   \n",
      "2  14:43.2  06/07/2024  07/07/2024   \n",
      "3  14:43.2  06/07/2024  07/07/2024   \n",
      "4  14:43.2  06/07/2024  07/07/2024   \n",
      "\n",
      "                                                name  TTT  LOS  score  \\\n",
      "0                               Omni Berkshire Place    1    1   9.29   \n",
      "1                         The Washington by LuxUrban    1    1   8.28   \n",
      "2                       Hyatt Grand Central New York    1    1   8.08   \n",
      "3  The Cloud One New York-Downtown, by the Motel ...    1    1   8.88   \n",
      "4                              45 Times Square Hotel    1    1   8.68   \n",
      "\n",
      "   reviews  price_per_night  original_price  ...  Free_cancellation  \\\n",
      "0     1223              269             299  ...                  0   \n",
      "1     1006              188             209  ...                  1   \n",
      "2     3726              246             289  ...                  0   \n",
      "3      625              189               0  ...                  0   \n",
      "4     1268              270             300  ...                  0   \n",
      "\n",
      "   No_payment  Breakfast  Option Member  Index  star_rating  location_rating  \\\n",
      "0           0          0              0      3          4.0              9.6   \n",
      "1           0          0              0      6          4.0              9.4   \n",
      "2           0          0              0     11          4.0              NaN   \n",
      "3           0          0              0     12          4.0              8.9   \n",
      "4           0          0              1     13          3.0              9.6   \n",
      "\n",
      "   neighborhood km_from_center  neighborhood_category  \n",
      "0  Midtown East            1.1      Midtown Manhattan  \n",
      "1     Manhattan            7.1        Other Manhattan  \n",
      "2  Midtown East            1.9      Midtown Manhattan  \n",
      "3     Manhattan            7.0        Other Manhattan  \n",
      "4     Manhattan            1.2        Other Manhattan  \n",
      "\n",
      "[5 rows x 21 columns]\n"
     ]
    }
   ],
   "source": [
    "# Assuming df is your DataFrame\n",
    "columns_to_replace = ['Free_cancellation', 'No_payment', 'Breakfast', 'Option Member']\n",
    "df[columns_to_replace] = df[columns_to_replace].replace({False: 0, True: 1})\n",
    "\n",
    "print(df.head())"
   ]
  },
  {
   "cell_type": "code",
   "execution_count": 235,
   "id": "a679fbb2-769c-408a-8de8-e11fc82fc036",
   "metadata": {},
   "outputs": [
    {
     "name": "stdout",
     "output_type": "stream",
     "text": [
      "NaN values in specified columns after imputation:\n",
      "score              0\n",
      "star_rating        0\n",
      "km_from_center     0\n",
      "reviews            0\n",
      "location_rating    0\n",
      "dtype: int64\n"
     ]
    }
   ],
   "source": [
    "# Columns to fill NaN values with the mean\n",
    "columns_to_impute = ['score', 'star_rating', 'km_from_center', \"reviews\", \"location_rating\"]\n",
    "\n",
    "# Function to fill NaN values with the mean of the column\n",
    "def fill_na_with_mean(df, columns):\n",
    "    for column in columns:\n",
    "        mean_value = df[column].mean()\n",
    "        df[column].fillna(mean_value, inplace=True)\n",
    "    return df\n",
    "\n",
    "# Fill NaN values in the specified columns\n",
    "df = fill_na_with_mean(df, columns_to_impute)\n",
    "\n",
    "# Check if NaN values have been filled\n",
    "nan_summary_after = df[columns_to_impute].isna().sum()\n",
    "print(\"NaN values in specified columns after imputation:\")\n",
    "print(nan_summary_after)"
   ]
  },
  {
   "cell_type": "code",
   "execution_count": 236,
   "id": "c9ab1f91-334c-4322-a237-cc23f4dfc931",
   "metadata": {},
   "outputs": [],
   "source": [
    "df.loc[df[\"original_price\"] == 0, \"discount_perc\"] = 0"
   ]
  },
  {
   "cell_type": "code",
   "execution_count": 237,
   "id": "ee7b9fea-4756-4626-b7f8-d3c97f972235",
   "metadata": {},
   "outputs": [
    {
     "name": "stdout",
     "output_type": "stream",
     "text": [
      "NaN values in specified columns after imputation:\n",
      "Snapshot                 0\n",
      "start_date               0\n",
      "end_date                 0\n",
      "name                     0\n",
      "TTT                      0\n",
      "LOS                      0\n",
      "score                    0\n",
      "reviews                  0\n",
      "price_per_night          0\n",
      "original_price           0\n",
      "discount_perc            0\n",
      "Free_cancellation        0\n",
      "No_payment               0\n",
      "Breakfast                0\n",
      "Option Member            0\n",
      "Index                    0\n",
      "star_rating              0\n",
      "location_rating          0\n",
      "neighborhood             0\n",
      "km_from_center           0\n",
      "neighborhood_category    0\n",
      "dtype: int64\n"
     ]
    }
   ],
   "source": [
    "nan_summary_after = df[df.columns].isna().sum()\n",
    "print(\"NaN values in specified columns after imputation:\")\n",
    "print(nan_summary_after)"
   ]
  },
  {
   "cell_type": "code",
   "execution_count": 238,
   "id": "046da89a-5e16-40bc-818a-f46010f912a5",
   "metadata": {},
   "outputs": [],
   "source": [
    "df.to_csv(OUTPUT_FILE_PATH, index=False)"
   ]
  },
  {
   "cell_type": "code",
   "execution_count": 239,
   "id": "19171a74-777c-453f-809b-172c8bdae4a4",
   "metadata": {},
   "outputs": [
    {
     "data": {
      "text/plain": [
       "neighborhood_category\n",
       "Other Manhattan       5886\n",
       "Midtown Manhattan     5166\n",
       "Downtown Manhattan    3147\n",
       "Uptown Manhattan       474\n",
       "Unknown/Other            1\n",
       "Name: count, dtype: int64"
      ]
     },
     "execution_count": 239,
     "metadata": {},
     "output_type": "execute_result"
    }
   ],
   "source": [
    "df[\"neighborhood_category\"].value_counts()"
   ]
  },
  {
   "cell_type": "code",
   "execution_count": 241,
   "id": "48c2c38d-3a1b-4442-87d7-7e0491162152",
   "metadata": {},
   "outputs": [
    {
     "name": "stdout",
     "output_type": "stream",
     "text": [
      "                TTT           LOS         score       reviews  \\\n",
      "count  14674.000000  14674.000000  14674.000000  14674.000000   \n",
      "mean      18.407932      2.978193      8.749749   1398.925378   \n",
      "std        7.315686      1.418088      0.381074   1024.732455   \n",
      "min        1.000000      1.000000      8.080000      8.000000   \n",
      "25%       13.000000      2.000000      8.480000   1000.000000   \n",
      "50%       19.000000      3.000000      8.749749   1007.000000   \n",
      "75%       25.000000      4.000000      9.090000   1530.000000   \n",
      "max       30.000000      5.000000      9.890000   5932.000000   \n",
      "\n",
      "       price_per_night  original_price  discount_perc  Free_cancellation  \\\n",
      "count     14674.000000    14674.000000        14674.0       14674.000000   \n",
      "mean        241.425855      153.974104            0.0           0.487597   \n",
      "std          56.279838      147.532826            0.0           0.499863   \n",
      "min          48.000000        0.000000            0.0           0.000000   \n",
      "25%         207.000000        0.000000            0.0           0.000000   \n",
      "50%         236.000000      207.000000            0.0           0.000000   \n",
      "75%         269.000000      275.000000            0.0           1.000000   \n",
      "max         667.000000     1202.000000            0.0           1.000000   \n",
      "\n",
      "         No_payment  Breakfast  Option Member         Index   star_rating  \\\n",
      "count  14674.000000    14674.0   14674.000000  14674.000000  14674.000000   \n",
      "mean       0.006678        0.0       0.386125    125.734088      3.702769   \n",
      "std        0.081451        0.0       0.486876     74.650166      0.549137   \n",
      "min        0.000000        0.0       0.000000      1.000000      1.000000   \n",
      "25%        0.000000        0.0       0.000000     61.000000      3.000000   \n",
      "50%        0.000000        0.0       0.000000    125.000000      4.000000   \n",
      "75%        0.000000        0.0       1.000000    189.000000      4.000000   \n",
      "max        1.000000        0.0       1.000000    447.000000      5.000000   \n",
      "\n",
      "       location_rating  km_from_center  \n",
      "count     14674.000000    14674.000000  \n",
      "mean          9.306447        3.017089  \n",
      "std           0.172479        2.213355  \n",
      "min           8.500000        0.250000  \n",
      "25%           9.306447        1.400000  \n",
      "50%           9.306447        2.200000  \n",
      "75%           9.306447        4.400000  \n",
      "max           9.800000        9.800000  \n"
     ]
    },
    {
     "ename": "ValueError",
     "evalue": "could not convert string to float: '14:43.1'",
     "output_type": "error",
     "traceback": [
      "\u001b[1;31m---------------------------------------------------------------------------\u001b[0m",
      "\u001b[1;31mValueError\u001b[0m                                Traceback (most recent call last)",
      "Cell \u001b[1;32mIn[241], line 8\u001b[0m\n\u001b[0;32m      5\u001b[0m \u001b[38;5;28mprint\u001b[39m(df\u001b[38;5;241m.\u001b[39mdescribe())\n\u001b[0;32m      7\u001b[0m \u001b[38;5;66;03m# Correlation matrix\u001b[39;00m\n\u001b[1;32m----> 8\u001b[0m corr_matrix \u001b[38;5;241m=\u001b[39m df\u001b[38;5;241m.\u001b[39mcorr()\n\u001b[0;32m      9\u001b[0m sns\u001b[38;5;241m.\u001b[39mheatmap(corr_matrix, annot\u001b[38;5;241m=\u001b[39m\u001b[38;5;28;01mTrue\u001b[39;00m, cmap\u001b[38;5;241m=\u001b[39m\u001b[38;5;124m'\u001b[39m\u001b[38;5;124mcoolwarm\u001b[39m\u001b[38;5;124m'\u001b[39m)\n\u001b[0;32m     10\u001b[0m plt\u001b[38;5;241m.\u001b[39mshow()\n",
      "File \u001b[1;32m~\\anaconda3\\Lib\\site-packages\\pandas\\core\\frame.py:10704\u001b[0m, in \u001b[0;36mDataFrame.corr\u001b[1;34m(self, method, min_periods, numeric_only)\u001b[0m\n\u001b[0;32m  10702\u001b[0m cols \u001b[38;5;241m=\u001b[39m data\u001b[38;5;241m.\u001b[39mcolumns\n\u001b[0;32m  10703\u001b[0m idx \u001b[38;5;241m=\u001b[39m cols\u001b[38;5;241m.\u001b[39mcopy()\n\u001b[1;32m> 10704\u001b[0m mat \u001b[38;5;241m=\u001b[39m data\u001b[38;5;241m.\u001b[39mto_numpy(dtype\u001b[38;5;241m=\u001b[39m\u001b[38;5;28mfloat\u001b[39m, na_value\u001b[38;5;241m=\u001b[39mnp\u001b[38;5;241m.\u001b[39mnan, copy\u001b[38;5;241m=\u001b[39m\u001b[38;5;28;01mFalse\u001b[39;00m)\n\u001b[0;32m  10706\u001b[0m \u001b[38;5;28;01mif\u001b[39;00m method \u001b[38;5;241m==\u001b[39m \u001b[38;5;124m\"\u001b[39m\u001b[38;5;124mpearson\u001b[39m\u001b[38;5;124m\"\u001b[39m:\n\u001b[0;32m  10707\u001b[0m     correl \u001b[38;5;241m=\u001b[39m libalgos\u001b[38;5;241m.\u001b[39mnancorr(mat, minp\u001b[38;5;241m=\u001b[39mmin_periods)\n",
      "File \u001b[1;32m~\\anaconda3\\Lib\\site-packages\\pandas\\core\\frame.py:1889\u001b[0m, in \u001b[0;36mDataFrame.to_numpy\u001b[1;34m(self, dtype, copy, na_value)\u001b[0m\n\u001b[0;32m   1887\u001b[0m \u001b[38;5;28;01mif\u001b[39;00m dtype \u001b[38;5;129;01mis\u001b[39;00m \u001b[38;5;129;01mnot\u001b[39;00m \u001b[38;5;28;01mNone\u001b[39;00m:\n\u001b[0;32m   1888\u001b[0m     dtype \u001b[38;5;241m=\u001b[39m np\u001b[38;5;241m.\u001b[39mdtype(dtype)\n\u001b[1;32m-> 1889\u001b[0m result \u001b[38;5;241m=\u001b[39m \u001b[38;5;28mself\u001b[39m\u001b[38;5;241m.\u001b[39m_mgr\u001b[38;5;241m.\u001b[39mas_array(dtype\u001b[38;5;241m=\u001b[39mdtype, copy\u001b[38;5;241m=\u001b[39mcopy, na_value\u001b[38;5;241m=\u001b[39mna_value)\n\u001b[0;32m   1890\u001b[0m \u001b[38;5;28;01mif\u001b[39;00m result\u001b[38;5;241m.\u001b[39mdtype \u001b[38;5;129;01mis\u001b[39;00m \u001b[38;5;129;01mnot\u001b[39;00m dtype:\n\u001b[0;32m   1891\u001b[0m     result \u001b[38;5;241m=\u001b[39m np\u001b[38;5;241m.\u001b[39marray(result, dtype\u001b[38;5;241m=\u001b[39mdtype, copy\u001b[38;5;241m=\u001b[39m\u001b[38;5;28;01mFalse\u001b[39;00m)\n",
      "File \u001b[1;32m~\\anaconda3\\Lib\\site-packages\\pandas\\core\\internals\\managers.py:1656\u001b[0m, in \u001b[0;36mBlockManager.as_array\u001b[1;34m(self, dtype, copy, na_value)\u001b[0m\n\u001b[0;32m   1654\u001b[0m         arr\u001b[38;5;241m.\u001b[39mflags\u001b[38;5;241m.\u001b[39mwriteable \u001b[38;5;241m=\u001b[39m \u001b[38;5;28;01mFalse\u001b[39;00m\n\u001b[0;32m   1655\u001b[0m \u001b[38;5;28;01melse\u001b[39;00m:\n\u001b[1;32m-> 1656\u001b[0m     arr \u001b[38;5;241m=\u001b[39m \u001b[38;5;28mself\u001b[39m\u001b[38;5;241m.\u001b[39m_interleave(dtype\u001b[38;5;241m=\u001b[39mdtype, na_value\u001b[38;5;241m=\u001b[39mna_value)\n\u001b[0;32m   1657\u001b[0m     \u001b[38;5;66;03m# The underlying data was copied within _interleave, so no need\u001b[39;00m\n\u001b[0;32m   1658\u001b[0m     \u001b[38;5;66;03m# to further copy if copy=True or setting na_value\u001b[39;00m\n\u001b[0;32m   1660\u001b[0m \u001b[38;5;28;01mif\u001b[39;00m na_value \u001b[38;5;129;01mis\u001b[39;00m lib\u001b[38;5;241m.\u001b[39mno_default:\n",
      "File \u001b[1;32m~\\anaconda3\\Lib\\site-packages\\pandas\\core\\internals\\managers.py:1715\u001b[0m, in \u001b[0;36mBlockManager._interleave\u001b[1;34m(self, dtype, na_value)\u001b[0m\n\u001b[0;32m   1713\u001b[0m     \u001b[38;5;28;01melse\u001b[39;00m:\n\u001b[0;32m   1714\u001b[0m         arr \u001b[38;5;241m=\u001b[39m blk\u001b[38;5;241m.\u001b[39mget_values(dtype)\n\u001b[1;32m-> 1715\u001b[0m     result[rl\u001b[38;5;241m.\u001b[39mindexer] \u001b[38;5;241m=\u001b[39m arr\n\u001b[0;32m   1716\u001b[0m     itemmask[rl\u001b[38;5;241m.\u001b[39mindexer] \u001b[38;5;241m=\u001b[39m \u001b[38;5;241m1\u001b[39m\n\u001b[0;32m   1718\u001b[0m \u001b[38;5;28;01mif\u001b[39;00m \u001b[38;5;129;01mnot\u001b[39;00m itemmask\u001b[38;5;241m.\u001b[39mall():\n",
      "\u001b[1;31mValueError\u001b[0m: could not convert string to float: '14:43.1'"
     ]
    }
   ],
   "source": [
    "import seaborn as sns\n",
    "import matplotlib.pyplot as plt\n",
    "\n",
    "# Summary statistics\n",
    "print(df.describe())\n",
    "\n",
    "# Correlation matrix\n",
    "corr_matrix = df.corr()\n",
    "sns.heatmap(corr_matrix, annot=True, cmap='coolwarm')\n",
    "plt.show()\n",
    "\n",
    "# Check for missing values\n",
    "print(df.isnull().sum())"
   ]
  },
  {
   "cell_type": "code",
   "execution_count": 242,
   "id": "cf4c51df-0b37-4a04-927b-5d732f37cb85",
   "metadata": {},
   "outputs": [
    {
     "data": {
      "image/png": "[encoded data removed]",
      "text/plain": [
       "<Figure size 640x480 with 1 Axes>"
      ]
     },
     "metadata": {},
     "output_type": "display_data"
    }
   ],
   "source": [
    "# Box plot to detect outliers\n",
    "sns.boxplot(df['price_per_night'])\n",
    "plt.show()"
   ]
  },
  {
   "cell_type": "code",
   "execution_count": 246,
   "id": "60da0c38-8723-4a87-bb77-f95548dadf94",
   "metadata": {},
   "outputs": [
    {
     "name": "stdout",
     "output_type": "stream",
     "text": [
      "Non-numeric columns present in X: Index(['Snapshot_00:10.4', 'Snapshot_00:10.5', 'Snapshot_00:10.6',\n",
      "       'Snapshot_00:10.7', 'Snapshot_00:10.8', 'Snapshot_00:10.9',\n",
      "       'Snapshot_00:11.0', 'Snapshot_00:11.1', 'Snapshot_00:11.2',\n",
      "       'Snapshot_00:11.3',\n",
      "       ...\n",
      "       'neighborhood_Tribeca', 'neighborhood_Union Square',\n",
      "       'neighborhood_Upper East Side', 'neighborhood_Upper West Side',\n",
      "       'neighborhood_Washington Heights',\n",
      "       'neighborhood_category_Governors Island',\n",
      "       'neighborhood_category_Midtown Manhattan',\n",
      "       'neighborhood_category_Other Manhattan',\n",
      "       'neighborhood_category_Unknown/Other',\n",
      "       'neighborhood_category_Uptown Manhattan'],\n",
      "      dtype='object', length=13101)\n"
     ]
    },
    {
     "ename": "AssertionError",
     "evalue": "Some columns are still non-numeric.",
     "output_type": "error",
     "traceback": [
      "\u001b[1;31m---------------------------------------------------------------------------\u001b[0m",
      "\u001b[1;31mAssertionError\u001b[0m                            Traceback (most recent call last)",
      "Cell \u001b[1;32mIn[246], line 49\u001b[0m\n\u001b[0;32m     46\u001b[0m     X \u001b[38;5;241m=\u001b[39m pd\u001b[38;5;241m.\u001b[39mget_dummies(X, drop_first\u001b[38;5;241m=\u001b[39m\u001b[38;5;28;01mTrue\u001b[39;00m)\n\u001b[0;32m     48\u001b[0m \u001b[38;5;66;03m# Re-check and ensure all data is numeric\u001b[39;00m\n\u001b[1;32m---> 49\u001b[0m \u001b[38;5;28;01massert\u001b[39;00m np\u001b[38;5;241m.\u001b[39missubdtype(X\u001b[38;5;241m.\u001b[39mdtypes, np\u001b[38;5;241m.\u001b[39mnumber), \u001b[38;5;124m\"\u001b[39m\u001b[38;5;124mSome columns are still non-numeric.\u001b[39m\u001b[38;5;124m\"\u001b[39m\n\u001b[0;32m     51\u001b[0m \u001b[38;5;66;03m# Calculate VIF\u001b[39;00m\n\u001b[0;32m     52\u001b[0m vif_data \u001b[38;5;241m=\u001b[39m pd\u001b[38;5;241m.\u001b[39mDataFrame()\n",
      "\u001b[1;31mAssertionError\u001b[0m: Some columns are still non-numeric."
     ]
    }
   ],
   "source": [
    "import pandas as pd\n",
    "import numpy as np\n",
    "from statsmodels.stats.outliers_influence import variance_inflation_factor\n",
    "\n",
    "# Load the data\n",
    "df1 = pd.read_csv(r\"C:\\\\Users\\\\User\\\\Desktop\\\\expedia_clean_dfs\\\\expedia_clean_df_05_07.csv\")\n",
    "df2 = pd.read_csv(r\"C:\\\\Users\\\\User\\\\Desktop\\\\expedia_clean_dfs\\\\expedia_clean_df_20_06.csv\")\n",
    "df3 = pd.read_csv(r\"C:\\\\Users\\\\User\\\\Desktop\\\\expedia_clean_dfs\\\\expedia_clean_df_25_06.csv\")\n",
    "\n",
    "# Merge the dataframes\n",
    "df = pd.concat([df1, df2, df3], ignore_index=True)\n",
    "\n",
    "# Remove outliers in 'price_per_night' using the IQR method\n",
    "Q1 = df['price_per_night'].quantile(0.25)\n",
    "Q3 = df['price_per_night'].quantile(0.75)\n",
    "IQR = Q3 - Q1\n",
    "lower_bound = Q1 - 1.5 * IQR\n",
    "upper_bound = Q3 + 1.5 * IQR\n",
    "df = df[(df['price_per_night'] >= lower_bound) & (df['price_per_night'] <= upper_bound)]\n",
    "\n",
    "# Fill NaN values with the mean of the group\n",
    "def fill_na_with_group_mean(df):\n",
    "    numeric_cols = df.select_dtypes(include=[np.number]).columns\n",
    "    for col in numeric_cols:\n",
    "        df[col].fillna(df[col].mean(), inplace=True)\n",
    "    return df\n",
    "\n",
    "df = fill_na_with_group_mean(df)\n",
    "\n",
    "# Convert categorical variables to numeric (if any)\n",
    "df = pd.get_dummies(df, drop_first=True)\n",
    "\n",
    "# Ensure there are no missing or infinite values\n",
    "df.replace([np.inf, -np.inf], np.nan, inplace=True)\n",
    "df.dropna(inplace=True)\n",
    "\n",
    "# Separate features and target variable\n",
    "X = df.drop(columns=['price_per_night'])\n",
    "y = df['price_per_night']\n",
    "\n",
    "# Check if all data is numeric\n",
    "if not np.issubdtype(X.dtypes, np.number):\n",
    "    non_numeric_columns = X.select_dtypes(exclude=[np.number]).columns\n",
    "    print(f\"Non-numeric columns present in X: {non_numeric_columns}\")\n",
    "    # Convert non-numeric columns to numeric if any\n",
    "    X = pd.get_dummies(X, drop_first=True)\n",
    "\n",
    "# Re-check and ensure all data is numeric\n",
    "assert np.issubdtype(X.dtypes, np.number), \"Some columns are still non-numeric.\"\n",
    "\n",
    "# Calculate VIF\n",
    "vif_data = pd.DataFrame()\n",
    "vif_data['feature'] = X.columns\n",
    "vif_data['VIF'] = [variance_inflation_factor(X.values, i) for i in range(X.shape[1])]\n",
    "\n",
    "print(vif_data)\n"
   ]
  },
  {
   "cell_type": "code",
   "execution_count": null,
   "id": "3b0db20f-e1ea-43ef-b709-e5d5b07dfe87",
   "metadata": {},
   "outputs": [],
   "source": []
  }
 ],
 "metadata": {
  "kernelspec": {
   "display_name": "Python 3 (ipykernel)",
   "language": "python",
   "name": "python3"
  },
  "language_info": {
   "codemirror_mode": {
    "name": "ipython",
    "version": 3
   },
   "file_extension": ".py",
   "mimetype": "text/x-python",
   "name": "python",
   "nbconvert_exporter": "python",
   "pygments_lexer": "ipython3",
   "version": "3.11.7"
  }
 },
 "nbformat": 4,
 "nbformat_minor": 5
}
