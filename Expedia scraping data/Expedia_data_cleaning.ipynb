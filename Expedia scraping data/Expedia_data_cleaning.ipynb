{
 "cells": [
  {
   "cell_type": "code",
   "execution_count": 138,
   "id": "2b5c93be-ce08-4174-8aa3-81a16ba7e60f",
   "metadata": {},
   "outputs": [],
   "source": [
    "import pandas as pd\n",
    "import numpy as np\n",
    "import re"
   ]
  },
  {
   "cell_type": "code",
   "execution_count": 139,
   "id": "de511cd5-ccb3-43b0-add1-5fbd97565efa",
   "metadata": {},
   "outputs": [],
   "source": [
    "# Load the CSV file\n",
    "expedia_file_path = r\"C:\\Users\\User\\Desktop\\Expedia\\last_output_df_25_06_2024.csv\"\n",
    "booking_file_path = r\"C:\\Users\\User\\Desktop\\booking\\booking_hotels_clean_data_25_06.csv\"\n",
    "OUTPUT_FILE_PATH = r\"C:\\Users\\User\\Desktop\\expedia_clean_dfs\\expedia_clean_df_25_06.csv\"\n",
    "df = pd.read_csv(expedia_file_path)"
   ]
  },
  {
   "cell_type": "code",
   "execution_count": 140,
   "id": "3559e27d-bfb2-4f02-9ad7-53b612ec4907",
   "metadata": {},
   "outputs": [
    {
     "name": "stdout",
     "output_type": "stream",
     "text": [
      "expedia df shape: (21856, 21)\n",
      "expedia df columns: Index(['Snapshot', 'start_date', 'end_date', 'name', 'TTT', 'LOS', 'score',\n",
      "       'reviews', 'price_per_night', 'original_price', 'discount_perc',\n",
      "       'Free_cancellation', 'No_payment', 'Breakfast', 'Option Member',\n",
      "       'Index', 'star_rating', 'location_rating', 'neighborhood',\n",
      "       'km_from_center', 'neighborhood_category'],\n",
      "      dtype='object')\n"
     ]
    }
   ],
   "source": [
    "print(f\"expedia df shape: {df.shape}\")\n",
    "print(f\"expedia df columns: {df.columns}\")"
   ]
  },
  {
   "cell_type": "code",
   "execution_count": 141,
   "id": "b7935b8e-4bad-4ca9-acdf-7e1ea0930e47",
   "metadata": {},
   "outputs": [
    {
     "name": "stdout",
     "output_type": "stream",
     "text": [
      "booking df shape: (25829, 23)\n",
      "booking df columns: Index(['name', 'score', 'reviews', 'room_type', 'bed_type', 'price',\n",
      "       'availability', 'los', 'url', 'star_rating', 'location_rating',\n",
      "       'Snapshot', 'Free_cancellation', 'No_prepayment', 'Limited_rooms',\n",
      "       'TTT', 'Breakfast', 'index', 'neighborhood', 'km_from_center',\n",
      "       'price_per_night', 'room_rate', 'neighborhood_category'],\n",
      "      dtype='object')\n"
     ]
    }
   ],
   "source": [
    "booking_df = pd.read_csv(booking_file_path)\n",
    "print(f\"booking df shape: {booking_df.shape}\")\n",
    "print(f\"booking df columns: {booking_df.columns}\")"
   ]
  },
  {
   "cell_type": "code",
   "execution_count": 142,
   "id": "b8695be8-fc8c-491b-a0cc-ba256ab518f3",
   "metadata": {},
   "outputs": [
    {
     "data": {
      "text/plain": [
       "Index(['Snapshot', 'start_date', 'end_date', 'name', 'TTT', 'LOS', 'score',\n",
       "       'reviews', 'price_per_night', 'original_price', 'discount_perc',\n",
       "       'Free_cancellation', 'No_payment', 'Breakfast', 'Option Member',\n",
       "       'Index'],\n",
       "      dtype='object')"
      ]
     },
     "execution_count": 142,
     "metadata": {},
     "output_type": "execute_result"
    }
   ],
   "source": [
    "df = df.drop([\"star_rating\", \"location_rating\", \"neighborhood\", \"km_from_center\", \"neighborhood_category\"], axis=1)\n",
    "df.columns"
   ]
  },
  {
   "cell_type": "code",
   "execution_count": 143,
   "id": "c4852158-6b7f-4765-a9f5-29ed7eb41554",
   "metadata": {},
   "outputs": [],
   "source": [
    "# drop duplicates from both dataframes (booking and expedia)\n",
    "subset_cols = [\"name\", \"TTT\", \"LOS\"]\n",
    "df = df.drop_duplicates(subset=subset_cols, keep='first')\n",
    "booking_df = booking_df.drop_duplicates(subset=[\"name\", \"TTT\", \"los\"], keep='first')"
   ]
  },
  {
   "cell_type": "code",
   "execution_count": 144,
   "id": "18b7eeb9-8790-435c-9616-77035c42a3e8",
   "metadata": {},
   "outputs": [
    {
     "name": "stdout",
     "output_type": "stream",
     "text": [
      "expedia df shape: (20879, 16)\n",
      "expedia df columns: Index(['Snapshot', 'start_date', 'end_date', 'name', 'TTT', 'LOS', 'score',\n",
      "       'reviews', 'price_per_night', 'original_price', 'discount_perc',\n",
      "       'Free_cancellation', 'No_payment', 'Breakfast', 'Option Member',\n",
      "       'Index'],\n",
      "      dtype='object')\n",
      "\n",
      "booking df shape: (25826, 23)\n",
      "expedia df columns: Index(['name', 'score', 'reviews', 'room_type', 'bed_type', 'price',\n",
      "       'availability', 'los', 'url', 'star_rating', 'location_rating',\n",
      "       'Snapshot', 'Free_cancellation', 'No_prepayment', 'Limited_rooms',\n",
      "       'TTT', 'Breakfast', 'index', 'neighborhood', 'km_from_center',\n",
      "       'price_per_night', 'room_rate', 'neighborhood_category'],\n",
      "      dtype='object')\n"
     ]
    }
   ],
   "source": [
    "print(f\"expedia df shape: {df.shape}\")\n",
    "print(f\"expedia df columns: {df.columns}\")\n",
    "print()\n",
    "print(f\"booking df shape: {booking_df.shape}\")\n",
    "print(f\"expedia df columns: {booking_df.columns}\")"
   ]
  },
  {
   "cell_type": "code",
   "execution_count": 145,
   "id": "60bdc714-eefb-494a-81c3-cdae4d01f0f8",
   "metadata": {},
   "outputs": [
    {
     "name": "stdout",
     "output_type": "stream",
     "text": [
      "unique hotels in expedia df = 468\n",
      "unique hotels in booking df = 386\n"
     ]
    }
   ],
   "source": [
    "print(f\"unique hotels in expedia df = {len(df['name'].unique())}\")\n",
    "print(f\"unique hotels in booking df = {len(booking_df['name'].unique())}\")"
   ]
  },
  {
   "cell_type": "code",
   "execution_count": 146,
   "id": "67154851-b608-439d-88c5-1a3560dfbfe2",
   "metadata": {},
   "outputs": [
    {
     "name": "stdout",
     "output_type": "stream",
     "text": [
      "Amount of combined hotels:\n",
      "186\n"
     ]
    }
   ],
   "source": [
    "print(\"Amount of combined hotels:\")\n",
    "print(len(df[df[\"name\"].isin(booking_df['name'].unique())][\"name\"].unique()))"
   ]
  },
  {
   "cell_type": "code",
   "execution_count": 147,
   "id": "a9f9c499-61df-4306-b18f-80941afc0ba4",
   "metadata": {},
   "outputs": [
    {
     "name": "stdout",
     "output_type": "stream",
     "text": [
      "(10311, 16)\n"
     ]
    }
   ],
   "source": [
    "df = df[df[\"name\"].isin(booking_df['name'].unique())]\n",
    "print(df.shape)"
   ]
  },
  {
   "cell_type": "code",
   "execution_count": 148,
   "id": "ac1e6ca4-6769-42c8-b770-7822f624a764",
   "metadata": {},
   "outputs": [],
   "source": [
    "# df = df.drop([\"Location grade\", \"Distance from center\"], axis=1)"
   ]
  },
  {
   "cell_type": "code",
   "execution_count": 149,
   "id": "3bad2623-256b-42fa-9481-49cf8afd871f",
   "metadata": {},
   "outputs": [],
   "source": [
    "# change columns names\n",
    "# df = df.rename(columns={'Hotel Name': \"name\", \"Grade\": \"score\", \"Num of Reviews\": \"reviews\", \"Curr Price\": \"price_per_night\", \"Original Price\": \"original_price\", \"Percentage of discount\": \"discount_perc\"})\n",
    "# df = df.rename(columns={\"Is refundable\": \"Free_cancellation\", \"Late payment\": \"No_payment\", \"Breakfast included\": \"Breakfast\", \"rating-star\": \"star_rating\"})"
   ]
  },
  {
   "cell_type": "code",
   "execution_count": 150,
   "id": "4d3f4dac-895a-4e16-b0c1-d3239aef0fe1",
   "metadata": {},
   "outputs": [
    {
     "data": {
      "text/plain": [
       "Index(['Snapshot', 'start_date', 'end_date', 'name', 'TTT', 'LOS', 'score',\n",
       "       'reviews', 'price_per_night', 'original_price', 'discount_perc',\n",
       "       'Free_cancellation', 'No_payment', 'Breakfast', 'Option Member',\n",
       "       'Index', 'star_rating', 'location_rating', 'neighborhood',\n",
       "       'km_from_center', 'neighborhood_category'],\n",
       "      dtype='object')"
      ]
     },
     "execution_count": 150,
     "metadata": {},
     "output_type": "execute_result"
    }
   ],
   "source": [
    "def copy_data_from_booking_hotels(booking_df, expedia_df):\n",
    "    unique_booking_hotels_data = booking_df.drop_duplicates(subset=\"name\")\n",
    "    expedia_df = expedia_df.merge(unique_booking_hotels_data[[\"name\", \"star_rating\", \"location_rating\", \"neighborhood\", \"km_from_center\", \"neighborhood_category\"]], on=\"name\", how='left')\n",
    "    return expedia_df\n",
    "\n",
    "df = copy_data_from_booking_hotels(booking_df, df)\n",
    "df.columns"
   ]
  },
  {
   "cell_type": "code",
   "execution_count": 151,
   "id": "6e98acf7-9de6-49d2-8a8a-7e611b65ccdb",
   "metadata": {},
   "outputs": [],
   "source": [
    "def clean_data(df):\n",
    "    # Remove non-numeric characters and convert to float for 'score'\n",
    "    df['score'] = df['score'].astype(str).str.extract(r'(\\d+\\.\\d+)')[0].astype(float)\n",
    "    \n",
    "    # Remove non-numeric characters for 'reviews' and handle empty strings\n",
    "    df['reviews'] = df['reviews'].astype(str).str.replace(r'\\D', '', regex=True)\n",
    "    df['reviews'] = pd.to_numeric(df['reviews'], errors='coerce').fillna(0).astype(int)\n",
    "    \n",
    "    # Remove non-numeric characters for 'price_per_night' and handle empty strings\n",
    "    df['price_per_night'] = df['price_per_night'].astype(str).str.replace(r'[^\\d.]', '', regex=True)\n",
    "    df['price_per_night'] = pd.to_numeric(df['price_per_night'], errors='coerce').fillna(0.0)\n",
    "\n",
    "    # df['price_per_night'] = df['price_per_night'] / 100\n",
    "    \n",
    "    # Remove non-numeric characters for 'original_price' and handle empty strings\n",
    "    df['original_price'] = df['original_price'].astype(str).str.replace(r'[^\\d.]', '', regex=True)\n",
    "    df['original_price'] = pd.to_numeric(df['original_price'], errors='coerce').fillna(0.0)\n",
    "    \n",
    "    # Convert 'Breakfast included' to string and update column to True/False\n",
    "    df['Breakfast'] = df['Breakfast'].astype(str).str.contains('breakfast', case=False, na=False)\n",
    "    \n",
    "    return df"
   ]
  },
  {
   "cell_type": "code",
   "execution_count": 152,
   "id": "47146715-914d-4f5e-b2af-3b5676059ef0",
   "metadata": {},
   "outputs": [],
   "source": [
    "df = clean_data(df)"
   ]
  },
  {
   "cell_type": "code",
   "execution_count": 153,
   "id": "c70f509d-1d0e-4372-bdb1-3cc5547dca78",
   "metadata": {},
   "outputs": [
    {
     "data": {
      "text/html": [
       "<div>\n",
       "<style scoped>\n",
       "    .dataframe tbody tr th:only-of-type {\n",
       "        vertical-align: middle;\n",
       "    }\n",
       "\n",
       "    .dataframe tbody tr th {\n",
       "        vertical-align: top;\n",
       "    }\n",
       "\n",
       "    .dataframe thead th {\n",
       "        text-align: right;\n",
       "    }\n",
       "</style>\n",
       "<table border=\"1\" class=\"dataframe\">\n",
       "  <thead>\n",
       "    <tr style=\"text-align: right;\">\n",
       "      <th></th>\n",
       "      <th>Snapshot</th>\n",
       "      <th>start_date</th>\n",
       "      <th>end_date</th>\n",
       "      <th>name</th>\n",
       "      <th>TTT</th>\n",
       "      <th>LOS</th>\n",
       "      <th>score</th>\n",
       "      <th>reviews</th>\n",
       "      <th>price_per_night</th>\n",
       "      <th>original_price</th>\n",
       "      <th>...</th>\n",
       "      <th>Free_cancellation</th>\n",
       "      <th>No_payment</th>\n",
       "      <th>Breakfast</th>\n",
       "      <th>Option Member</th>\n",
       "      <th>Index</th>\n",
       "      <th>star_rating</th>\n",
       "      <th>location_rating</th>\n",
       "      <th>neighborhood</th>\n",
       "      <th>km_from_center</th>\n",
       "      <th>neighborhood_category</th>\n",
       "    </tr>\n",
       "  </thead>\n",
       "  <tbody>\n",
       "    <tr>\n",
       "      <th>0</th>\n",
       "      <td>55:17.0</td>\n",
       "      <td>26/06/2024</td>\n",
       "      <td>27/06/2024</td>\n",
       "      <td>Radio Hotel</td>\n",
       "      <td>1</td>\n",
       "      <td>1</td>\n",
       "      <td>8.68</td>\n",
       "      <td>1727</td>\n",
       "      <td>194</td>\n",
       "      <td>215</td>\n",
       "      <td>...</td>\n",
       "      <td>False</td>\n",
       "      <td>False</td>\n",
       "      <td>False</td>\n",
       "      <td>False</td>\n",
       "      <td>4</td>\n",
       "      <td>4.0</td>\n",
       "      <td>NaN</td>\n",
       "      <td>Washington Heights</td>\n",
       "      <td>9.8</td>\n",
       "      <td>Uptown Manhattan</td>\n",
       "    </tr>\n",
       "    <tr>\n",
       "      <th>1</th>\n",
       "      <td>55:17.0</td>\n",
       "      <td>26/06/2024</td>\n",
       "      <td>27/06/2024</td>\n",
       "      <td>The Washington by LuxUrban</td>\n",
       "      <td>1</td>\n",
       "      <td>1</td>\n",
       "      <td>8.28</td>\n",
       "      <td>1018</td>\n",
       "      <td>243</td>\n",
       "      <td>270</td>\n",
       "      <td>...</td>\n",
       "      <td>False</td>\n",
       "      <td>False</td>\n",
       "      <td>False</td>\n",
       "      <td>False</td>\n",
       "      <td>6</td>\n",
       "      <td>4.0</td>\n",
       "      <td>9.4</td>\n",
       "      <td>Manhattan</td>\n",
       "      <td>7.1</td>\n",
       "      <td>Other Manhattan</td>\n",
       "    </tr>\n",
       "    <tr>\n",
       "      <th>2</th>\n",
       "      <td>55:17.1</td>\n",
       "      <td>26/06/2024</td>\n",
       "      <td>27/06/2024</td>\n",
       "      <td>YOTEL New York Times Square</td>\n",
       "      <td>1</td>\n",
       "      <td>1</td>\n",
       "      <td>NaN</td>\n",
       "      <td>2334</td>\n",
       "      <td>260</td>\n",
       "      <td>289</td>\n",
       "      <td>...</td>\n",
       "      <td>False</td>\n",
       "      <td>False</td>\n",
       "      <td>False</td>\n",
       "      <td>False</td>\n",
       "      <td>10</td>\n",
       "      <td>4.0</td>\n",
       "      <td>NaN</td>\n",
       "      <td>Hell's Kitchen</td>\n",
       "      <td>1.5</td>\n",
       "      <td>Midtown Manhattan</td>\n",
       "    </tr>\n",
       "    <tr>\n",
       "      <th>3</th>\n",
       "      <td>55:17.1</td>\n",
       "      <td>26/06/2024</td>\n",
       "      <td>27/06/2024</td>\n",
       "      <td>City Club Hotel</td>\n",
       "      <td>1</td>\n",
       "      <td>1</td>\n",
       "      <td>NaN</td>\n",
       "      <td>1353</td>\n",
       "      <td>280</td>\n",
       "      <td>329</td>\n",
       "      <td>...</td>\n",
       "      <td>True</td>\n",
       "      <td>False</td>\n",
       "      <td>False</td>\n",
       "      <td>False</td>\n",
       "      <td>14</td>\n",
       "      <td>4.0</td>\n",
       "      <td>NaN</td>\n",
       "      <td>Manhattan</td>\n",
       "      <td>1.4</td>\n",
       "      <td>Other Manhattan</td>\n",
       "    </tr>\n",
       "    <tr>\n",
       "      <th>4</th>\n",
       "      <td>55:17.1</td>\n",
       "      <td>26/06/2024</td>\n",
       "      <td>27/06/2024</td>\n",
       "      <td>Hyatt Place New York City/Times Square</td>\n",
       "      <td>1</td>\n",
       "      <td>1</td>\n",
       "      <td>8.08</td>\n",
       "      <td>1511</td>\n",
       "      <td>351</td>\n",
       "      <td>390</td>\n",
       "      <td>...</td>\n",
       "      <td>False</td>\n",
       "      <td>False</td>\n",
       "      <td>False</td>\n",
       "      <td>False</td>\n",
       "      <td>16</td>\n",
       "      <td>4.0</td>\n",
       "      <td>NaN</td>\n",
       "      <td>Hell's Kitchen</td>\n",
       "      <td>1.7</td>\n",
       "      <td>Midtown Manhattan</td>\n",
       "    </tr>\n",
       "    <tr>\n",
       "      <th>...</th>\n",
       "      <td>...</td>\n",
       "      <td>...</td>\n",
       "      <td>...</td>\n",
       "      <td>...</td>\n",
       "      <td>...</td>\n",
       "      <td>...</td>\n",
       "      <td>...</td>\n",
       "      <td>...</td>\n",
       "      <td>...</td>\n",
       "      <td>...</td>\n",
       "      <td>...</td>\n",
       "      <td>...</td>\n",
       "      <td>...</td>\n",
       "      <td>...</td>\n",
       "      <td>...</td>\n",
       "      <td>...</td>\n",
       "      <td>...</td>\n",
       "      <td>...</td>\n",
       "      <td>...</td>\n",
       "      <td>...</td>\n",
       "      <td>...</td>\n",
       "    </tr>\n",
       "    <tr>\n",
       "      <th>10306</th>\n",
       "      <td>42:19.2</td>\n",
       "      <td>25/07/2024</td>\n",
       "      <td>30/07/2024</td>\n",
       "      <td>The Maritime Hotel</td>\n",
       "      <td>30</td>\n",
       "      <td>5</td>\n",
       "      <td>9.49</td>\n",
       "      <td>1015</td>\n",
       "      <td>311</td>\n",
       "      <td>359</td>\n",
       "      <td>...</td>\n",
       "      <td>True</td>\n",
       "      <td>False</td>\n",
       "      <td>False</td>\n",
       "      <td>False</td>\n",
       "      <td>242</td>\n",
       "      <td>4.0</td>\n",
       "      <td>9.6</td>\n",
       "      <td>Chelsea</td>\n",
       "      <td>3.4</td>\n",
       "      <td>Midtown Manhattan</td>\n",
       "    </tr>\n",
       "    <tr>\n",
       "      <th>10307</th>\n",
       "      <td>42:19.3</td>\n",
       "      <td>25/07/2024</td>\n",
       "      <td>30/07/2024</td>\n",
       "      <td>Doxie Hotel</td>\n",
       "      <td>30</td>\n",
       "      <td>5</td>\n",
       "      <td>NaN</td>\n",
       "      <td>760</td>\n",
       "      <td>197</td>\n",
       "      <td>0</td>\n",
       "      <td>...</td>\n",
       "      <td>False</td>\n",
       "      <td>False</td>\n",
       "      <td>False</td>\n",
       "      <td>False</td>\n",
       "      <td>244</td>\n",
       "      <td>2.0</td>\n",
       "      <td>NaN</td>\n",
       "      <td>Manhattan</td>\n",
       "      <td>1.7</td>\n",
       "      <td>Other Manhattan</td>\n",
       "    </tr>\n",
       "    <tr>\n",
       "      <th>10308</th>\n",
       "      <td>42:19.4</td>\n",
       "      <td>25/07/2024</td>\n",
       "      <td>30/07/2024</td>\n",
       "      <td>The Herald by LuxUrban</td>\n",
       "      <td>30</td>\n",
       "      <td>5</td>\n",
       "      <td>8.08</td>\n",
       "      <td>224</td>\n",
       "      <td>255</td>\n",
       "      <td>284</td>\n",
       "      <td>...</td>\n",
       "      <td>True</td>\n",
       "      <td>False</td>\n",
       "      <td>False</td>\n",
       "      <td>True</td>\n",
       "      <td>247</td>\n",
       "      <td>3.0</td>\n",
       "      <td>9.6</td>\n",
       "      <td>Manhattan</td>\n",
       "      <td>2.0</td>\n",
       "      <td>Other Manhattan</td>\n",
       "    </tr>\n",
       "    <tr>\n",
       "      <th>10309</th>\n",
       "      <td>42:19.4</td>\n",
       "      <td>25/07/2024</td>\n",
       "      <td>30/07/2024</td>\n",
       "      <td>AC Hotel by Marriott New York Times Square</td>\n",
       "      <td>30</td>\n",
       "      <td>5</td>\n",
       "      <td>9.09</td>\n",
       "      <td>1001</td>\n",
       "      <td>268</td>\n",
       "      <td>0</td>\n",
       "      <td>...</td>\n",
       "      <td>False</td>\n",
       "      <td>False</td>\n",
       "      <td>False</td>\n",
       "      <td>False</td>\n",
       "      <td>248</td>\n",
       "      <td>4.0</td>\n",
       "      <td>NaN</td>\n",
       "      <td>Manhattan</td>\n",
       "      <td>1.6</td>\n",
       "      <td>Other Manhattan</td>\n",
       "    </tr>\n",
       "    <tr>\n",
       "      <th>10310</th>\n",
       "      <td>42:19.5</td>\n",
       "      <td>25/07/2024</td>\n",
       "      <td>30/07/2024</td>\n",
       "      <td>The Gallivant Times Square</td>\n",
       "      <td>30</td>\n",
       "      <td>5</td>\n",
       "      <td>NaN</td>\n",
       "      <td>2754</td>\n",
       "      <td>168</td>\n",
       "      <td>187</td>\n",
       "      <td>...</td>\n",
       "      <td>False</td>\n",
       "      <td>False</td>\n",
       "      <td>False</td>\n",
       "      <td>False</td>\n",
       "      <td>249</td>\n",
       "      <td>4.0</td>\n",
       "      <td>NaN</td>\n",
       "      <td>Manhattan</td>\n",
       "      <td>0.9</td>\n",
       "      <td>Other Manhattan</td>\n",
       "    </tr>\n",
       "  </tbody>\n",
       "</table>\n",
       "<p>10311 rows × 21 columns</p>\n",
       "</div>"
      ],
      "text/plain": [
       "      Snapshot  start_date    end_date  \\\n",
       "0      55:17.0  26/06/2024  27/06/2024   \n",
       "1      55:17.0  26/06/2024  27/06/2024   \n",
       "2      55:17.1  26/06/2024  27/06/2024   \n",
       "3      55:17.1  26/06/2024  27/06/2024   \n",
       "4      55:17.1  26/06/2024  27/06/2024   \n",
       "...        ...         ...         ...   \n",
       "10306  42:19.2  25/07/2024  30/07/2024   \n",
       "10307  42:19.3  25/07/2024  30/07/2024   \n",
       "10308  42:19.4  25/07/2024  30/07/2024   \n",
       "10309  42:19.4  25/07/2024  30/07/2024   \n",
       "10310  42:19.5  25/07/2024  30/07/2024   \n",
       "\n",
       "                                             name  TTT  LOS  score  reviews  \\\n",
       "0                                     Radio Hotel    1    1   8.68     1727   \n",
       "1                      The Washington by LuxUrban    1    1   8.28     1018   \n",
       "2                     YOTEL New York Times Square    1    1    NaN     2334   \n",
       "3                                 City Club Hotel    1    1    NaN     1353   \n",
       "4          Hyatt Place New York City/Times Square    1    1   8.08     1511   \n",
       "...                                           ...  ...  ...    ...      ...   \n",
       "10306                          The Maritime Hotel   30    5   9.49     1015   \n",
       "10307                                 Doxie Hotel   30    5    NaN      760   \n",
       "10308                      The Herald by LuxUrban   30    5   8.08      224   \n",
       "10309  AC Hotel by Marriott New York Times Square   30    5   9.09     1001   \n",
       "10310                  The Gallivant Times Square   30    5    NaN     2754   \n",
       "\n",
       "       price_per_night  original_price  ... Free_cancellation  No_payment  \\\n",
       "0                  194             215  ...             False       False   \n",
       "1                  243             270  ...             False       False   \n",
       "2                  260             289  ...             False       False   \n",
       "3                  280             329  ...              True       False   \n",
       "4                  351             390  ...             False       False   \n",
       "...                ...             ...  ...               ...         ...   \n",
       "10306              311             359  ...              True       False   \n",
       "10307              197               0  ...             False       False   \n",
       "10308              255             284  ...              True       False   \n",
       "10309              268               0  ...             False       False   \n",
       "10310              168             187  ...             False       False   \n",
       "\n",
       "       Breakfast  Option Member  Index  star_rating  location_rating  \\\n",
       "0          False          False      4          4.0              NaN   \n",
       "1          False          False      6          4.0              9.4   \n",
       "2          False          False     10          4.0              NaN   \n",
       "3          False          False     14          4.0              NaN   \n",
       "4          False          False     16          4.0              NaN   \n",
       "...          ...            ...    ...          ...              ...   \n",
       "10306      False          False    242          4.0              9.6   \n",
       "10307      False          False    244          2.0              NaN   \n",
       "10308      False           True    247          3.0              9.6   \n",
       "10309      False          False    248          4.0              NaN   \n",
       "10310      False          False    249          4.0              NaN   \n",
       "\n",
       "             neighborhood km_from_center  neighborhood_category  \n",
       "0      Washington Heights            9.8       Uptown Manhattan  \n",
       "1               Manhattan            7.1        Other Manhattan  \n",
       "2          Hell's Kitchen            1.5      Midtown Manhattan  \n",
       "3               Manhattan            1.4        Other Manhattan  \n",
       "4          Hell's Kitchen            1.7      Midtown Manhattan  \n",
       "...                   ...            ...                    ...  \n",
       "10306             Chelsea            3.4      Midtown Manhattan  \n",
       "10307           Manhattan            1.7        Other Manhattan  \n",
       "10308           Manhattan            2.0        Other Manhattan  \n",
       "10309           Manhattan            1.6        Other Manhattan  \n",
       "10310           Manhattan            0.9        Other Manhattan  \n",
       "\n",
       "[10311 rows x 21 columns]"
      ]
     },
     "execution_count": 153,
     "metadata": {},
     "output_type": "execute_result"
    }
   ],
   "source": [
    "# Display the cleaned DataFrame\n",
    "df"
   ]
  },
  {
   "cell_type": "code",
   "execution_count": 154,
   "id": "a679fbb2-769c-408a-8de8-e11fc82fc036",
   "metadata": {},
   "outputs": [
    {
     "name": "stdout",
     "output_type": "stream",
     "text": [
      "NaN values in specified columns after imputation:\n",
      "score              0\n",
      "star_rating        0\n",
      "km_from_center     0\n",
      "reviews            0\n",
      "location_rating    0\n",
      "dtype: int64\n"
     ]
    }
   ],
   "source": [
    "# Columns to fill NaN values with the mean\n",
    "columns_to_impute = ['score', 'star_rating', 'km_from_center', \"reviews\", \"location_rating\"]\n",
    "\n",
    "# Function to fill NaN values with the mean of the column\n",
    "def fill_na_with_mean(df, columns):\n",
    "    for column in columns:\n",
    "        mean_value = df[column].mean()\n",
    "        df[column].fillna(mean_value, inplace=True)\n",
    "    return df\n",
    "\n",
    "# Fill NaN values in the specified columns\n",
    "df = fill_na_with_mean(df, columns_to_impute)\n",
    "\n",
    "# Check if NaN values have been filled\n",
    "nan_summary_after = df[columns_to_impute].isna().sum()\n",
    "print(\"NaN values in specified columns after imputation:\")\n",
    "print(nan_summary_after)"
   ]
  },
  {
   "cell_type": "code",
   "execution_count": 155,
   "id": "c9ab1f91-334c-4322-a237-cc23f4dfc931",
   "metadata": {},
   "outputs": [],
   "source": [
    "df.loc[df[\"original_price\"] == 0, \"discount_perc\"] = 0"
   ]
  },
  {
   "cell_type": "code",
   "execution_count": 156,
   "id": "ee7b9fea-4756-4626-b7f8-d3c97f972235",
   "metadata": {},
   "outputs": [
    {
     "name": "stdout",
     "output_type": "stream",
     "text": [
      "NaN values in specified columns after imputation:\n",
      "Snapshot                 0\n",
      "start_date               0\n",
      "end_date                 0\n",
      "name                     0\n",
      "TTT                      0\n",
      "LOS                      0\n",
      "score                    0\n",
      "reviews                  0\n",
      "price_per_night          0\n",
      "original_price           0\n",
      "discount_perc            0\n",
      "Free_cancellation        0\n",
      "No_payment               0\n",
      "Breakfast                0\n",
      "Option Member            0\n",
      "Index                    0\n",
      "star_rating              0\n",
      "location_rating          0\n",
      "neighborhood             0\n",
      "km_from_center           0\n",
      "neighborhood_category    0\n",
      "dtype: int64\n"
     ]
    }
   ],
   "source": [
    "nan_summary_after = df[df.columns].isna().sum()\n",
    "print(\"NaN values in specified columns after imputation:\")\n",
    "print(nan_summary_after)"
   ]
  },
  {
   "cell_type": "code",
   "execution_count": 157,
   "id": "046da89a-5e16-40bc-818a-f46010f912a5",
   "metadata": {},
   "outputs": [],
   "source": [
    "df.to_csv(OUTPUT_FILE_PATH, index=False)"
   ]
  },
  {
   "cell_type": "code",
   "execution_count": 158,
   "id": "19171a74-777c-453f-809b-172c8bdae4a4",
   "metadata": {},
   "outputs": [
    {
     "data": {
      "text/plain": [
       "neighborhood_category\n",
       "Other Manhattan       4185\n",
       "Midtown Manhattan     3500\n",
       "Downtown Manhattan    2239\n",
       "Uptown Manhattan       387\n",
       "Name: count, dtype: int64"
      ]
     },
     "execution_count": 158,
     "metadata": {},
     "output_type": "execute_result"
    }
   ],
   "source": [
    "df[\"neighborhood_category\"].value_counts()"
   ]
  }
 ],
 "metadata": {
  "kernelspec": {
   "display_name": "Python 3 (ipykernel)",
   "language": "python",
   "name": "python3"
  },
  "language_info": {
   "codemirror_mode": {
    "name": "ipython",
    "version": 3
   },
   "file_extension": ".py",
   "mimetype": "text/x-python",
   "name": "python",
   "nbconvert_exporter": "python",
   "pygments_lexer": "ipython3",
   "version": "3.11.7"
  }
 },
 "nbformat": 4,
 "nbformat_minor": 5
}
