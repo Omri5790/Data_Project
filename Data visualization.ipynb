import pandas as pd
import seaborn as sns
import matplotlib.pyplot as plt
from sklearn.preprocessing import MinMaxScaler

# Load the CSV file
file_path = '20_06_hotels_data_cleaned.csv'
df = pd.read_csv(file_path)

# Ensure 'Snapshot' is in datetime format
df['Snapshot'] = pd.to_datetime(df['Snapshot'], errors='coerce')

# Ensure 'TTT' and 'LOS' are numeric
df['TTT'] = pd.to_numeric(df['TTT'], errors='coerce')
df['LOS'] = pd.to_numeric(df['LOS'], errors='coerce')

# Calculate check-in date by adding 'TTT' to 'Snapshot'
df['checkin'] = df['Snapshot'] + pd.to_timedelta(df['TTT'], unit='d')

# Calculate check-out date by adding 'LOS' to 'checkin'
df['checkout'] = df['checkin'] + pd.to_timedelta(df['LOS'], unit='d')

# Add columns for the day name of check-in and check-out
df['checkin_day_name'] = df['checkin'].dt.day_name()
df['checkout_day_name'] = df['checkout'].dt.day_name()

# Convert day names to categorical variables
df['checkin_day_name'] = df['checkin_day_name'].astype('category')
df['checkout_day_name'] = df['checkout_day_name'].astype('category')

# Handle outliers by removing unreasonable price values (e.g., < $10)
df['price_per_night'] = pd.to_numeric(df['price_per_night'], errors='coerce')
df = df[df['price_per_night'] > 10]

# Select columns to normalize
columns_to_normalize = ['score', 'reviews', 'km_from_center', 'price_per_night']

# Initialize the scaler
scaler = MinMaxScaler()

# Fit and transform the data
df[columns_to_normalize] = scaler.fit_transform(df[columns_to_normalize])

# Verify the normalization
print("Normalized Data:")
print(df[columns_to_normalize].head())

# Visualization 1: Histogram of Prices
plt.figure(figsize=(14, 7))
sns.histplot(df['price_per_night'], kde=True, bins=30, color='blue')
plt.title('Distribution of Normalized Prices per Night')
plt.xlabel('Normalized Price per Night')
plt.ylabel('Frequency')
plt.show()

# Visualization 2: Scatter Plot of Price vs. Distance from Center
plt.figure(figsize=(14, 7))
sns.scatterplot(x='km_from_center', y='price_per_night', data=df, hue='star_rating', palette='viridis', alpha=0.7)
plt.title('Normalized Price per Night vs. Distance from Center')
plt.xlabel('Distance from Center (km)')
plt.ylabel('Normalized Price per Night')
plt.legend(title='Star Rating')
plt.show()

# Visualize the relationship between check-in and check-out days with normalized price per night
plt.figure(figsize=(14, 7))
sns.boxplot(x='checkin_day_name', y='price_per_night', hue='checkout_day_name', data=df, palette='Set3')
plt.title('Normalized Price per Night by Check-In and Check-Out Days')
plt.show()

# Prepare data for heatmaps based on star ratings
star_ratings = [1, 2, 3, 4, 5]
heatmap_data = {}
for star in star_ratings:
    heatmap_data[star] = df[df['star_rating'] == star].pivot_table(index='checkin_day_name', columns='checkout_day_name', values='price_per_night', aggfunc='mean')

# Create heatmaps for each star rating with annotations
for star in star_ratings:
    plt.figure(figsize=(10, 8))
    ax = sns.heatmap(heatmap_data[star], annot=True, fmt=".2f", cmap='coolwarm', cbar=True)
    plt.title(f'Average Normalized Price per Night by Check-In and Check-Out Days for {star}-Star Hotels')
    plt.show()

# Optionally, save the updated DataFrame to a new CSV file
df.to_csv('20_06_hotels_data_cleaned.csv', index=False)

